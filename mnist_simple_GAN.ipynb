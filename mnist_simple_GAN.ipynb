{
  "nbformat": 4,
  "nbformat_minor": 0,
  "metadata": {
    "colab": {
      "name": "GAN.ipynb",
      "provenance": [],
      "collapsed_sections": [],
      "authorship_tag": "ABX9TyNE6GiMsY4zkNISlEtoFSVK",
      "include_colab_link": true
    },
    "kernelspec": {
      "name": "python3",
      "display_name": "Python 3"
    },
    "accelerator": "GPU",
    "widgets": {
      "application/vnd.jupyter.widget-state+json": {
        "53766c60998d404ca965cdeb0319acb4": {
          "model_module": "@jupyter-widgets/controls",
          "model_name": "HBoxModel",
          "state": {
            "_view_name": "HBoxView",
            "_dom_classes": [],
            "_model_name": "HBoxModel",
            "_view_module": "@jupyter-widgets/controls",
            "_model_module_version": "1.5.0",
            "_view_count": null,
            "_view_module_version": "1.5.0",
            "box_style": "",
            "layout": "IPY_MODEL_5239d03c5d4545eca7fd58e06621d00f",
            "_model_module": "@jupyter-widgets/controls",
            "children": [
              "IPY_MODEL_d0309b0f678342b0879e9261fc38cd33",
              "IPY_MODEL_2859ea2937e54a3fa19b7a22632e97ec"
            ]
          }
        },
        "5239d03c5d4545eca7fd58e06621d00f": {
          "model_module": "@jupyter-widgets/base",
          "model_name": "LayoutModel",
          "state": {
            "_view_name": "LayoutView",
            "grid_template_rows": null,
            "right": null,
            "justify_content": null,
            "_view_module": "@jupyter-widgets/base",
            "overflow": null,
            "_model_module_version": "1.2.0",
            "_view_count": null,
            "flex_flow": null,
            "width": null,
            "min_width": null,
            "border": null,
            "align_items": null,
            "bottom": null,
            "_model_module": "@jupyter-widgets/base",
            "top": null,
            "grid_column": null,
            "overflow_y": null,
            "overflow_x": null,
            "grid_auto_flow": null,
            "grid_area": null,
            "grid_template_columns": null,
            "flex": null,
            "_model_name": "LayoutModel",
            "justify_items": null,
            "grid_row": null,
            "max_height": null,
            "align_content": null,
            "visibility": null,
            "align_self": null,
            "height": null,
            "min_height": null,
            "padding": null,
            "grid_auto_rows": null,
            "grid_gap": null,
            "max_width": null,
            "order": null,
            "_view_module_version": "1.2.0",
            "grid_template_areas": null,
            "object_position": null,
            "object_fit": null,
            "grid_auto_columns": null,
            "margin": null,
            "display": null,
            "left": null
          }
        },
        "d0309b0f678342b0879e9261fc38cd33": {
          "model_module": "@jupyter-widgets/controls",
          "model_name": "FloatProgressModel",
          "state": {
            "_view_name": "ProgressView",
            "style": "IPY_MODEL_eb7a0186b9d14988aa6d65a60584aa95",
            "_dom_classes": [],
            "description": "",
            "_model_name": "FloatProgressModel",
            "bar_style": "info",
            "max": 1,
            "_view_module": "@jupyter-widgets/controls",
            "_model_module_version": "1.5.0",
            "value": 1,
            "_view_count": null,
            "_view_module_version": "1.5.0",
            "orientation": "horizontal",
            "min": 0,
            "description_tooltip": null,
            "_model_module": "@jupyter-widgets/controls",
            "layout": "IPY_MODEL_2242d56d48184dde9bc41f2f9e31156e"
          }
        },
        "2859ea2937e54a3fa19b7a22632e97ec": {
          "model_module": "@jupyter-widgets/controls",
          "model_name": "HTMLModel",
          "state": {
            "_view_name": "HTMLView",
            "style": "IPY_MODEL_484923b3da2641cba34808f4678b4591",
            "_dom_classes": [],
            "description": "",
            "_model_name": "HTMLModel",
            "placeholder": "​",
            "_view_module": "@jupyter-widgets/controls",
            "_model_module_version": "1.5.0",
            "value": " 9920512/? [00:20&lt;00:00, 37947922.59it/s]",
            "_view_count": null,
            "_view_module_version": "1.5.0",
            "description_tooltip": null,
            "_model_module": "@jupyter-widgets/controls",
            "layout": "IPY_MODEL_3a65135ade334623a7505bd50e637384"
          }
        },
        "eb7a0186b9d14988aa6d65a60584aa95": {
          "model_module": "@jupyter-widgets/controls",
          "model_name": "ProgressStyleModel",
          "state": {
            "_view_name": "StyleView",
            "_model_name": "ProgressStyleModel",
            "description_width": "initial",
            "_view_module": "@jupyter-widgets/base",
            "_model_module_version": "1.5.0",
            "_view_count": null,
            "_view_module_version": "1.2.0",
            "bar_color": null,
            "_model_module": "@jupyter-widgets/controls"
          }
        },
        "2242d56d48184dde9bc41f2f9e31156e": {
          "model_module": "@jupyter-widgets/base",
          "model_name": "LayoutModel",
          "state": {
            "_view_name": "LayoutView",
            "grid_template_rows": null,
            "right": null,
            "justify_content": null,
            "_view_module": "@jupyter-widgets/base",
            "overflow": null,
            "_model_module_version": "1.2.0",
            "_view_count": null,
            "flex_flow": null,
            "width": null,
            "min_width": null,
            "border": null,
            "align_items": null,
            "bottom": null,
            "_model_module": "@jupyter-widgets/base",
            "top": null,
            "grid_column": null,
            "overflow_y": null,
            "overflow_x": null,
            "grid_auto_flow": null,
            "grid_area": null,
            "grid_template_columns": null,
            "flex": null,
            "_model_name": "LayoutModel",
            "justify_items": null,
            "grid_row": null,
            "max_height": null,
            "align_content": null,
            "visibility": null,
            "align_self": null,
            "height": null,
            "min_height": null,
            "padding": null,
            "grid_auto_rows": null,
            "grid_gap": null,
            "max_width": null,
            "order": null,
            "_view_module_version": "1.2.0",
            "grid_template_areas": null,
            "object_position": null,
            "object_fit": null,
            "grid_auto_columns": null,
            "margin": null,
            "display": null,
            "left": null
          }
        },
        "484923b3da2641cba34808f4678b4591": {
          "model_module": "@jupyter-widgets/controls",
          "model_name": "DescriptionStyleModel",
          "state": {
            "_view_name": "StyleView",
            "_model_name": "DescriptionStyleModel",
            "description_width": "",
            "_view_module": "@jupyter-widgets/base",
            "_model_module_version": "1.5.0",
            "_view_count": null,
            "_view_module_version": "1.2.0",
            "_model_module": "@jupyter-widgets/controls"
          }
        },
        "3a65135ade334623a7505bd50e637384": {
          "model_module": "@jupyter-widgets/base",
          "model_name": "LayoutModel",
          "state": {
            "_view_name": "LayoutView",
            "grid_template_rows": null,
            "right": null,
            "justify_content": null,
            "_view_module": "@jupyter-widgets/base",
            "overflow": null,
            "_model_module_version": "1.2.0",
            "_view_count": null,
            "flex_flow": null,
            "width": null,
            "min_width": null,
            "border": null,
            "align_items": null,
            "bottom": null,
            "_model_module": "@jupyter-widgets/base",
            "top": null,
            "grid_column": null,
            "overflow_y": null,
            "overflow_x": null,
            "grid_auto_flow": null,
            "grid_area": null,
            "grid_template_columns": null,
            "flex": null,
            "_model_name": "LayoutModel",
            "justify_items": null,
            "grid_row": null,
            "max_height": null,
            "align_content": null,
            "visibility": null,
            "align_self": null,
            "height": null,
            "min_height": null,
            "padding": null,
            "grid_auto_rows": null,
            "grid_gap": null,
            "max_width": null,
            "order": null,
            "_view_module_version": "1.2.0",
            "grid_template_areas": null,
            "object_position": null,
            "object_fit": null,
            "grid_auto_columns": null,
            "margin": null,
            "display": null,
            "left": null
          }
        },
        "7b6ffccde1224eb68718aa67ca138cca": {
          "model_module": "@jupyter-widgets/controls",
          "model_name": "HBoxModel",
          "state": {
            "_view_name": "HBoxView",
            "_dom_classes": [],
            "_model_name": "HBoxModel",
            "_view_module": "@jupyter-widgets/controls",
            "_model_module_version": "1.5.0",
            "_view_count": null,
            "_view_module_version": "1.5.0",
            "box_style": "",
            "layout": "IPY_MODEL_7278df7c59f04f48ac6b0ad3f11bd16e",
            "_model_module": "@jupyter-widgets/controls",
            "children": [
              "IPY_MODEL_807f078d5fd041099d81814cc21451ed",
              "IPY_MODEL_2e4abff35b6748ae8941de7b3a4c7f73"
            ]
          }
        },
        "7278df7c59f04f48ac6b0ad3f11bd16e": {
          "model_module": "@jupyter-widgets/base",
          "model_name": "LayoutModel",
          "state": {
            "_view_name": "LayoutView",
            "grid_template_rows": null,
            "right": null,
            "justify_content": null,
            "_view_module": "@jupyter-widgets/base",
            "overflow": null,
            "_model_module_version": "1.2.0",
            "_view_count": null,
            "flex_flow": null,
            "width": null,
            "min_width": null,
            "border": null,
            "align_items": null,
            "bottom": null,
            "_model_module": "@jupyter-widgets/base",
            "top": null,
            "grid_column": null,
            "overflow_y": null,
            "overflow_x": null,
            "grid_auto_flow": null,
            "grid_area": null,
            "grid_template_columns": null,
            "flex": null,
            "_model_name": "LayoutModel",
            "justify_items": null,
            "grid_row": null,
            "max_height": null,
            "align_content": null,
            "visibility": null,
            "align_self": null,
            "height": null,
            "min_height": null,
            "padding": null,
            "grid_auto_rows": null,
            "grid_gap": null,
            "max_width": null,
            "order": null,
            "_view_module_version": "1.2.0",
            "grid_template_areas": null,
            "object_position": null,
            "object_fit": null,
            "grid_auto_columns": null,
            "margin": null,
            "display": null,
            "left": null
          }
        },
        "807f078d5fd041099d81814cc21451ed": {
          "model_module": "@jupyter-widgets/controls",
          "model_name": "FloatProgressModel",
          "state": {
            "_view_name": "ProgressView",
            "style": "IPY_MODEL_44d19758dcd94b839c75b8fad993ebb4",
            "_dom_classes": [],
            "description": "",
            "_model_name": "FloatProgressModel",
            "bar_style": "success",
            "max": 1,
            "_view_module": "@jupyter-widgets/controls",
            "_model_module_version": "1.5.0",
            "value": 1,
            "_view_count": null,
            "_view_module_version": "1.5.0",
            "orientation": "horizontal",
            "min": 0,
            "description_tooltip": null,
            "_model_module": "@jupyter-widgets/controls",
            "layout": "IPY_MODEL_9021e498477b4eb38ad43b67e57bfbb5"
          }
        },
        "2e4abff35b6748ae8941de7b3a4c7f73": {
          "model_module": "@jupyter-widgets/controls",
          "model_name": "HTMLModel",
          "state": {
            "_view_name": "HTMLView",
            "style": "IPY_MODEL_85f46ddb206e49949d86f82a116d7c35",
            "_dom_classes": [],
            "description": "",
            "_model_name": "HTMLModel",
            "placeholder": "​",
            "_view_module": "@jupyter-widgets/controls",
            "_model_module_version": "1.5.0",
            "value": " 32768/? [00:00&lt;00:00, 102904.51it/s]",
            "_view_count": null,
            "_view_module_version": "1.5.0",
            "description_tooltip": null,
            "_model_module": "@jupyter-widgets/controls",
            "layout": "IPY_MODEL_5adf8a71d25441028b4fce0350034aa7"
          }
        },
        "44d19758dcd94b839c75b8fad993ebb4": {
          "model_module": "@jupyter-widgets/controls",
          "model_name": "ProgressStyleModel",
          "state": {
            "_view_name": "StyleView",
            "_model_name": "ProgressStyleModel",
            "description_width": "initial",
            "_view_module": "@jupyter-widgets/base",
            "_model_module_version": "1.5.0",
            "_view_count": null,
            "_view_module_version": "1.2.0",
            "bar_color": null,
            "_model_module": "@jupyter-widgets/controls"
          }
        },
        "9021e498477b4eb38ad43b67e57bfbb5": {
          "model_module": "@jupyter-widgets/base",
          "model_name": "LayoutModel",
          "state": {
            "_view_name": "LayoutView",
            "grid_template_rows": null,
            "right": null,
            "justify_content": null,
            "_view_module": "@jupyter-widgets/base",
            "overflow": null,
            "_model_module_version": "1.2.0",
            "_view_count": null,
            "flex_flow": null,
            "width": null,
            "min_width": null,
            "border": null,
            "align_items": null,
            "bottom": null,
            "_model_module": "@jupyter-widgets/base",
            "top": null,
            "grid_column": null,
            "overflow_y": null,
            "overflow_x": null,
            "grid_auto_flow": null,
            "grid_area": null,
            "grid_template_columns": null,
            "flex": null,
            "_model_name": "LayoutModel",
            "justify_items": null,
            "grid_row": null,
            "max_height": null,
            "align_content": null,
            "visibility": null,
            "align_self": null,
            "height": null,
            "min_height": null,
            "padding": null,
            "grid_auto_rows": null,
            "grid_gap": null,
            "max_width": null,
            "order": null,
            "_view_module_version": "1.2.0",
            "grid_template_areas": null,
            "object_position": null,
            "object_fit": null,
            "grid_auto_columns": null,
            "margin": null,
            "display": null,
            "left": null
          }
        },
        "85f46ddb206e49949d86f82a116d7c35": {
          "model_module": "@jupyter-widgets/controls",
          "model_name": "DescriptionStyleModel",
          "state": {
            "_view_name": "StyleView",
            "_model_name": "DescriptionStyleModel",
            "description_width": "",
            "_view_module": "@jupyter-widgets/base",
            "_model_module_version": "1.5.0",
            "_view_count": null,
            "_view_module_version": "1.2.0",
            "_model_module": "@jupyter-widgets/controls"
          }
        },
        "5adf8a71d25441028b4fce0350034aa7": {
          "model_module": "@jupyter-widgets/base",
          "model_name": "LayoutModel",
          "state": {
            "_view_name": "LayoutView",
            "grid_template_rows": null,
            "right": null,
            "justify_content": null,
            "_view_module": "@jupyter-widgets/base",
            "overflow": null,
            "_model_module_version": "1.2.0",
            "_view_count": null,
            "flex_flow": null,
            "width": null,
            "min_width": null,
            "border": null,
            "align_items": null,
            "bottom": null,
            "_model_module": "@jupyter-widgets/base",
            "top": null,
            "grid_column": null,
            "overflow_y": null,
            "overflow_x": null,
            "grid_auto_flow": null,
            "grid_area": null,
            "grid_template_columns": null,
            "flex": null,
            "_model_name": "LayoutModel",
            "justify_items": null,
            "grid_row": null,
            "max_height": null,
            "align_content": null,
            "visibility": null,
            "align_self": null,
            "height": null,
            "min_height": null,
            "padding": null,
            "grid_auto_rows": null,
            "grid_gap": null,
            "max_width": null,
            "order": null,
            "_view_module_version": "1.2.0",
            "grid_template_areas": null,
            "object_position": null,
            "object_fit": null,
            "grid_auto_columns": null,
            "margin": null,
            "display": null,
            "left": null
          }
        },
        "022e21f5e833490db4926de119cab572": {
          "model_module": "@jupyter-widgets/controls",
          "model_name": "HBoxModel",
          "state": {
            "_view_name": "HBoxView",
            "_dom_classes": [],
            "_model_name": "HBoxModel",
            "_view_module": "@jupyter-widgets/controls",
            "_model_module_version": "1.5.0",
            "_view_count": null,
            "_view_module_version": "1.5.0",
            "box_style": "",
            "layout": "IPY_MODEL_d4250662324d456080da4850c89510c2",
            "_model_module": "@jupyter-widgets/controls",
            "children": [
              "IPY_MODEL_28da7ea055cd431eb440e8f2a84c8dd0",
              "IPY_MODEL_218acd9b307c4757acdf22bae3abd03e"
            ]
          }
        },
        "d4250662324d456080da4850c89510c2": {
          "model_module": "@jupyter-widgets/base",
          "model_name": "LayoutModel",
          "state": {
            "_view_name": "LayoutView",
            "grid_template_rows": null,
            "right": null,
            "justify_content": null,
            "_view_module": "@jupyter-widgets/base",
            "overflow": null,
            "_model_module_version": "1.2.0",
            "_view_count": null,
            "flex_flow": null,
            "width": null,
            "min_width": null,
            "border": null,
            "align_items": null,
            "bottom": null,
            "_model_module": "@jupyter-widgets/base",
            "top": null,
            "grid_column": null,
            "overflow_y": null,
            "overflow_x": null,
            "grid_auto_flow": null,
            "grid_area": null,
            "grid_template_columns": null,
            "flex": null,
            "_model_name": "LayoutModel",
            "justify_items": null,
            "grid_row": null,
            "max_height": null,
            "align_content": null,
            "visibility": null,
            "align_self": null,
            "height": null,
            "min_height": null,
            "padding": null,
            "grid_auto_rows": null,
            "grid_gap": null,
            "max_width": null,
            "order": null,
            "_view_module_version": "1.2.0",
            "grid_template_areas": null,
            "object_position": null,
            "object_fit": null,
            "grid_auto_columns": null,
            "margin": null,
            "display": null,
            "left": null
          }
        },
        "28da7ea055cd431eb440e8f2a84c8dd0": {
          "model_module": "@jupyter-widgets/controls",
          "model_name": "FloatProgressModel",
          "state": {
            "_view_name": "ProgressView",
            "style": "IPY_MODEL_a365630c55464599a9428bb4cce338e0",
            "_dom_classes": [],
            "description": "",
            "_model_name": "FloatProgressModel",
            "bar_style": "success",
            "max": 1,
            "_view_module": "@jupyter-widgets/controls",
            "_model_module_version": "1.5.0",
            "value": 1,
            "_view_count": null,
            "_view_module_version": "1.5.0",
            "orientation": "horizontal",
            "min": 0,
            "description_tooltip": null,
            "_model_module": "@jupyter-widgets/controls",
            "layout": "IPY_MODEL_b40c3a338d7948698a32fdfc4d6b6c80"
          }
        },
        "218acd9b307c4757acdf22bae3abd03e": {
          "model_module": "@jupyter-widgets/controls",
          "model_name": "HTMLModel",
          "state": {
            "_view_name": "HTMLView",
            "style": "IPY_MODEL_b554d0c897394e09b1871fc2a531a6c4",
            "_dom_classes": [],
            "description": "",
            "_model_name": "HTMLModel",
            "placeholder": "​",
            "_view_module": "@jupyter-widgets/controls",
            "_model_module_version": "1.5.0",
            "value": " 1654784/? [00:00&lt;00:00, 6831755.31it/s]",
            "_view_count": null,
            "_view_module_version": "1.5.0",
            "description_tooltip": null,
            "_model_module": "@jupyter-widgets/controls",
            "layout": "IPY_MODEL_7263e5c3dc5f44e4bb58e0d7263fdf2c"
          }
        },
        "a365630c55464599a9428bb4cce338e0": {
          "model_module": "@jupyter-widgets/controls",
          "model_name": "ProgressStyleModel",
          "state": {
            "_view_name": "StyleView",
            "_model_name": "ProgressStyleModel",
            "description_width": "initial",
            "_view_module": "@jupyter-widgets/base",
            "_model_module_version": "1.5.0",
            "_view_count": null,
            "_view_module_version": "1.2.0",
            "bar_color": null,
            "_model_module": "@jupyter-widgets/controls"
          }
        },
        "b40c3a338d7948698a32fdfc4d6b6c80": {
          "model_module": "@jupyter-widgets/base",
          "model_name": "LayoutModel",
          "state": {
            "_view_name": "LayoutView",
            "grid_template_rows": null,
            "right": null,
            "justify_content": null,
            "_view_module": "@jupyter-widgets/base",
            "overflow": null,
            "_model_module_version": "1.2.0",
            "_view_count": null,
            "flex_flow": null,
            "width": null,
            "min_width": null,
            "border": null,
            "align_items": null,
            "bottom": null,
            "_model_module": "@jupyter-widgets/base",
            "top": null,
            "grid_column": null,
            "overflow_y": null,
            "overflow_x": null,
            "grid_auto_flow": null,
            "grid_area": null,
            "grid_template_columns": null,
            "flex": null,
            "_model_name": "LayoutModel",
            "justify_items": null,
            "grid_row": null,
            "max_height": null,
            "align_content": null,
            "visibility": null,
            "align_self": null,
            "height": null,
            "min_height": null,
            "padding": null,
            "grid_auto_rows": null,
            "grid_gap": null,
            "max_width": null,
            "order": null,
            "_view_module_version": "1.2.0",
            "grid_template_areas": null,
            "object_position": null,
            "object_fit": null,
            "grid_auto_columns": null,
            "margin": null,
            "display": null,
            "left": null
          }
        },
        "b554d0c897394e09b1871fc2a531a6c4": {
          "model_module": "@jupyter-widgets/controls",
          "model_name": "DescriptionStyleModel",
          "state": {
            "_view_name": "StyleView",
            "_model_name": "DescriptionStyleModel",
            "description_width": "",
            "_view_module": "@jupyter-widgets/base",
            "_model_module_version": "1.5.0",
            "_view_count": null,
            "_view_module_version": "1.2.0",
            "_model_module": "@jupyter-widgets/controls"
          }
        },
        "7263e5c3dc5f44e4bb58e0d7263fdf2c": {
          "model_module": "@jupyter-widgets/base",
          "model_name": "LayoutModel",
          "state": {
            "_view_name": "LayoutView",
            "grid_template_rows": null,
            "right": null,
            "justify_content": null,
            "_view_module": "@jupyter-widgets/base",
            "overflow": null,
            "_model_module_version": "1.2.0",
            "_view_count": null,
            "flex_flow": null,
            "width": null,
            "min_width": null,
            "border": null,
            "align_items": null,
            "bottom": null,
            "_model_module": "@jupyter-widgets/base",
            "top": null,
            "grid_column": null,
            "overflow_y": null,
            "overflow_x": null,
            "grid_auto_flow": null,
            "grid_area": null,
            "grid_template_columns": null,
            "flex": null,
            "_model_name": "LayoutModel",
            "justify_items": null,
            "grid_row": null,
            "max_height": null,
            "align_content": null,
            "visibility": null,
            "align_self": null,
            "height": null,
            "min_height": null,
            "padding": null,
            "grid_auto_rows": null,
            "grid_gap": null,
            "max_width": null,
            "order": null,
            "_view_module_version": "1.2.0",
            "grid_template_areas": null,
            "object_position": null,
            "object_fit": null,
            "grid_auto_columns": null,
            "margin": null,
            "display": null,
            "left": null
          }
        },
        "401debacec6e4d6ebbbef5f4d5b3aa63": {
          "model_module": "@jupyter-widgets/controls",
          "model_name": "HBoxModel",
          "state": {
            "_view_name": "HBoxView",
            "_dom_classes": [],
            "_model_name": "HBoxModel",
            "_view_module": "@jupyter-widgets/controls",
            "_model_module_version": "1.5.0",
            "_view_count": null,
            "_view_module_version": "1.5.0",
            "box_style": "",
            "layout": "IPY_MODEL_f1e730a198794550b4d207b202ee0399",
            "_model_module": "@jupyter-widgets/controls",
            "children": [
              "IPY_MODEL_08c679994ffa4faab87503903739bfe7",
              "IPY_MODEL_83c161c81d6241f6914632838b82d7d3"
            ]
          }
        },
        "f1e730a198794550b4d207b202ee0399": {
          "model_module": "@jupyter-widgets/base",
          "model_name": "LayoutModel",
          "state": {
            "_view_name": "LayoutView",
            "grid_template_rows": null,
            "right": null,
            "justify_content": null,
            "_view_module": "@jupyter-widgets/base",
            "overflow": null,
            "_model_module_version": "1.2.0",
            "_view_count": null,
            "flex_flow": null,
            "width": null,
            "min_width": null,
            "border": null,
            "align_items": null,
            "bottom": null,
            "_model_module": "@jupyter-widgets/base",
            "top": null,
            "grid_column": null,
            "overflow_y": null,
            "overflow_x": null,
            "grid_auto_flow": null,
            "grid_area": null,
            "grid_template_columns": null,
            "flex": null,
            "_model_name": "LayoutModel",
            "justify_items": null,
            "grid_row": null,
            "max_height": null,
            "align_content": null,
            "visibility": null,
            "align_self": null,
            "height": null,
            "min_height": null,
            "padding": null,
            "grid_auto_rows": null,
            "grid_gap": null,
            "max_width": null,
            "order": null,
            "_view_module_version": "1.2.0",
            "grid_template_areas": null,
            "object_position": null,
            "object_fit": null,
            "grid_auto_columns": null,
            "margin": null,
            "display": null,
            "left": null
          }
        },
        "08c679994ffa4faab87503903739bfe7": {
          "model_module": "@jupyter-widgets/controls",
          "model_name": "FloatProgressModel",
          "state": {
            "_view_name": "ProgressView",
            "style": "IPY_MODEL_10f37dbc21c7445184f112f6182f1b75",
            "_dom_classes": [],
            "description": "",
            "_model_name": "FloatProgressModel",
            "bar_style": "info",
            "max": 1,
            "_view_module": "@jupyter-widgets/controls",
            "_model_module_version": "1.5.0",
            "value": 0,
            "_view_count": null,
            "_view_module_version": "1.5.0",
            "orientation": "horizontal",
            "min": 0,
            "description_tooltip": null,
            "_model_module": "@jupyter-widgets/controls",
            "layout": "IPY_MODEL_55a39a6f1757471986b1c8ffd9336580"
          }
        },
        "83c161c81d6241f6914632838b82d7d3": {
          "model_module": "@jupyter-widgets/controls",
          "model_name": "HTMLModel",
          "state": {
            "_view_name": "HTMLView",
            "style": "IPY_MODEL_9660a178b61549a18626c1d5d71be3e2",
            "_dom_classes": [],
            "description": "",
            "_model_name": "HTMLModel",
            "placeholder": "​",
            "_view_module": "@jupyter-widgets/controls",
            "_model_module_version": "1.5.0",
            "value": " 0/? [00:00&lt;?, ?it/s]",
            "_view_count": null,
            "_view_module_version": "1.5.0",
            "description_tooltip": null,
            "_model_module": "@jupyter-widgets/controls",
            "layout": "IPY_MODEL_58a0b74adb58432dbdbe383d764f6455"
          }
        },
        "10f37dbc21c7445184f112f6182f1b75": {
          "model_module": "@jupyter-widgets/controls",
          "model_name": "ProgressStyleModel",
          "state": {
            "_view_name": "StyleView",
            "_model_name": "ProgressStyleModel",
            "description_width": "initial",
            "_view_module": "@jupyter-widgets/base",
            "_model_module_version": "1.5.0",
            "_view_count": null,
            "_view_module_version": "1.2.0",
            "bar_color": null,
            "_model_module": "@jupyter-widgets/controls"
          }
        },
        "55a39a6f1757471986b1c8ffd9336580": {
          "model_module": "@jupyter-widgets/base",
          "model_name": "LayoutModel",
          "state": {
            "_view_name": "LayoutView",
            "grid_template_rows": null,
            "right": null,
            "justify_content": null,
            "_view_module": "@jupyter-widgets/base",
            "overflow": null,
            "_model_module_version": "1.2.0",
            "_view_count": null,
            "flex_flow": null,
            "width": null,
            "min_width": null,
            "border": null,
            "align_items": null,
            "bottom": null,
            "_model_module": "@jupyter-widgets/base",
            "top": null,
            "grid_column": null,
            "overflow_y": null,
            "overflow_x": null,
            "grid_auto_flow": null,
            "grid_area": null,
            "grid_template_columns": null,
            "flex": null,
            "_model_name": "LayoutModel",
            "justify_items": null,
            "grid_row": null,
            "max_height": null,
            "align_content": null,
            "visibility": null,
            "align_self": null,
            "height": null,
            "min_height": null,
            "padding": null,
            "grid_auto_rows": null,
            "grid_gap": null,
            "max_width": null,
            "order": null,
            "_view_module_version": "1.2.0",
            "grid_template_areas": null,
            "object_position": null,
            "object_fit": null,
            "grid_auto_columns": null,
            "margin": null,
            "display": null,
            "left": null
          }
        },
        "9660a178b61549a18626c1d5d71be3e2": {
          "model_module": "@jupyter-widgets/controls",
          "model_name": "DescriptionStyleModel",
          "state": {
            "_view_name": "StyleView",
            "_model_name": "DescriptionStyleModel",
            "description_width": "",
            "_view_module": "@jupyter-widgets/base",
            "_model_module_version": "1.5.0",
            "_view_count": null,
            "_view_module_version": "1.2.0",
            "_model_module": "@jupyter-widgets/controls"
          }
        },
        "58a0b74adb58432dbdbe383d764f6455": {
          "model_module": "@jupyter-widgets/base",
          "model_name": "LayoutModel",
          "state": {
            "_view_name": "LayoutView",
            "grid_template_rows": null,
            "right": null,
            "justify_content": null,
            "_view_module": "@jupyter-widgets/base",
            "overflow": null,
            "_model_module_version": "1.2.0",
            "_view_count": null,
            "flex_flow": null,
            "width": null,
            "min_width": null,
            "border": null,
            "align_items": null,
            "bottom": null,
            "_model_module": "@jupyter-widgets/base",
            "top": null,
            "grid_column": null,
            "overflow_y": null,
            "overflow_x": null,
            "grid_auto_flow": null,
            "grid_area": null,
            "grid_template_columns": null,
            "flex": null,
            "_model_name": "LayoutModel",
            "justify_items": null,
            "grid_row": null,
            "max_height": null,
            "align_content": null,
            "visibility": null,
            "align_self": null,
            "height": null,
            "min_height": null,
            "padding": null,
            "grid_auto_rows": null,
            "grid_gap": null,
            "max_width": null,
            "order": null,
            "_view_module_version": "1.2.0",
            "grid_template_areas": null,
            "object_position": null,
            "object_fit": null,
            "grid_auto_columns": null,
            "margin": null,
            "display": null,
            "left": null
          }
        }
      }
    }
  },
  "cells": [
    {
      "cell_type": "markdown",
      "metadata": {
        "id": "view-in-github",
        "colab_type": "text"
      },
      "source": [
        "<a href=\"https://colab.research.google.com/github/aakashpaul-2/computer-vision/blob/main/mnist_simple_GAN.ipynb\" target=\"_parent\"><img src=\"https://colab.research.google.com/assets/colab-badge.svg\" alt=\"Open In Colab\"/></a>"
      ]
    },
    {
      "cell_type": "code",
      "metadata": {
        "id": "o00RsDp_rtt2"
      },
      "source": [
        "import torch\n",
        "import torch.nn as nn\n",
        "import torchvision\n",
        "from torchvision import datasets, transforms, models\n",
        "from torchvision.utils import save_image\n",
        "import numpy as np\n",
        "import matplotlib.pyplot as plt\n",
        "from datetime import datetime\n",
        "import sys, os\n",
        "from glob import glob\n",
        "import imageio"
      ],
      "execution_count": null,
      "outputs": []
    },
    {
      "cell_type": "code",
      "metadata": {
        "id": "kOyzPFwar6a_"
      },
      "source": [
        "transform = transforms.Compose([transforms.ToTensor(), transforms.Normalize(mean=(0.5,), std=(0.5,))])"
      ],
      "execution_count": null,
      "outputs": []
    },
    {
      "cell_type": "code",
      "metadata": {
        "id": "t58DYa6xso6m",
        "colab": {
          "base_uri": "https://localhost:8080/",
          "height": 386,
          "referenced_widgets": [
            "53766c60998d404ca965cdeb0319acb4",
            "5239d03c5d4545eca7fd58e06621d00f",
            "d0309b0f678342b0879e9261fc38cd33",
            "2859ea2937e54a3fa19b7a22632e97ec",
            "eb7a0186b9d14988aa6d65a60584aa95",
            "2242d56d48184dde9bc41f2f9e31156e",
            "484923b3da2641cba34808f4678b4591",
            "3a65135ade334623a7505bd50e637384",
            "7b6ffccde1224eb68718aa67ca138cca",
            "7278df7c59f04f48ac6b0ad3f11bd16e",
            "807f078d5fd041099d81814cc21451ed",
            "2e4abff35b6748ae8941de7b3a4c7f73",
            "44d19758dcd94b839c75b8fad993ebb4",
            "9021e498477b4eb38ad43b67e57bfbb5",
            "85f46ddb206e49949d86f82a116d7c35",
            "5adf8a71d25441028b4fce0350034aa7",
            "022e21f5e833490db4926de119cab572",
            "d4250662324d456080da4850c89510c2",
            "28da7ea055cd431eb440e8f2a84c8dd0",
            "218acd9b307c4757acdf22bae3abd03e",
            "a365630c55464599a9428bb4cce338e0",
            "b40c3a338d7948698a32fdfc4d6b6c80",
            "b554d0c897394e09b1871fc2a531a6c4",
            "7263e5c3dc5f44e4bb58e0d7263fdf2c",
            "401debacec6e4d6ebbbef5f4d5b3aa63",
            "f1e730a198794550b4d207b202ee0399",
            "08c679994ffa4faab87503903739bfe7",
            "83c161c81d6241f6914632838b82d7d3",
            "10f37dbc21c7445184f112f6182f1b75",
            "55a39a6f1757471986b1c8ffd9336580",
            "9660a178b61549a18626c1d5d71be3e2",
            "58a0b74adb58432dbdbe383d764f6455"
          ]
        },
        "outputId": "c73a8262-a85b-4723-ec22-5c705595439c"
      },
      "source": [
        "train_dataset = torchvision.datasets.MNIST(root=\".\", train=True, transform=transform, download=True)"
      ],
      "execution_count": null,
      "outputs": [
        {
          "output_type": "stream",
          "text": [
            "Downloading http://yann.lecun.com/exdb/mnist/train-images-idx3-ubyte.gz to ./MNIST/raw/train-images-idx3-ubyte.gz\n"
          ],
          "name": "stdout"
        },
        {
          "output_type": "display_data",
          "data": {
            "application/vnd.jupyter.widget-view+json": {
              "model_id": "53766c60998d404ca965cdeb0319acb4",
              "version_minor": 0,
              "version_major": 2
            },
            "text/plain": [
              "HBox(children=(FloatProgress(value=1.0, bar_style='info', max=1.0), HTML(value='')))"
            ]
          },
          "metadata": {
            "tags": []
          }
        },
        {
          "output_type": "stream",
          "text": [
            "Extracting ./MNIST/raw/train-images-idx3-ubyte.gz to ./MNIST/raw\n",
            "Downloading http://yann.lecun.com/exdb/mnist/train-labels-idx1-ubyte.gz to ./MNIST/raw/train-labels-idx1-ubyte.gz\n"
          ],
          "name": "stdout"
        },
        {
          "output_type": "display_data",
          "data": {
            "application/vnd.jupyter.widget-view+json": {
              "model_id": "7b6ffccde1224eb68718aa67ca138cca",
              "version_minor": 0,
              "version_major": 2
            },
            "text/plain": [
              "HBox(children=(FloatProgress(value=1.0, bar_style='info', max=1.0), HTML(value='')))"
            ]
          },
          "metadata": {
            "tags": []
          }
        },
        {
          "output_type": "stream",
          "text": [
            "Extracting ./MNIST/raw/train-labels-idx1-ubyte.gz to ./MNIST/raw\n",
            "Downloading http://yann.lecun.com/exdb/mnist/t10k-images-idx3-ubyte.gz to ./MNIST/raw/t10k-images-idx3-ubyte.gz\n"
          ],
          "name": "stdout"
        },
        {
          "output_type": "display_data",
          "data": {
            "application/vnd.jupyter.widget-view+json": {
              "model_id": "022e21f5e833490db4926de119cab572",
              "version_minor": 0,
              "version_major": 2
            },
            "text/plain": [
              "HBox(children=(FloatProgress(value=1.0, bar_style='info', max=1.0), HTML(value='')))"
            ]
          },
          "metadata": {
            "tags": []
          }
        },
        {
          "output_type": "stream",
          "text": [
            "Extracting ./MNIST/raw/t10k-images-idx3-ubyte.gz to ./MNIST/raw\n",
            "Downloading http://yann.lecun.com/exdb/mnist/t10k-labels-idx1-ubyte.gz to ./MNIST/raw/t10k-labels-idx1-ubyte.gz\n",
            "\n",
            "\n"
          ],
          "name": "stdout"
        },
        {
          "output_type": "display_data",
          "data": {
            "application/vnd.jupyter.widget-view+json": {
              "model_id": "401debacec6e4d6ebbbef5f4d5b3aa63",
              "version_minor": 0,
              "version_major": 2
            },
            "text/plain": [
              "HBox(children=(FloatProgress(value=1.0, bar_style='info', max=1.0), HTML(value='')))"
            ]
          },
          "metadata": {
            "tags": []
          }
        },
        {
          "output_type": "stream",
          "text": [
            "Extracting ./MNIST/raw/t10k-labels-idx1-ubyte.gz to ./MNIST/raw\n",
            "Processing...\n",
            "Done!\n"
          ],
          "name": "stdout"
        },
        {
          "output_type": "stream",
          "text": [
            "/pytorch/torch/csrc/utils/tensor_numpy.cpp:141: UserWarning: The given NumPy array is not writeable, and PyTorch does not support non-writeable tensors. This means you can write to the underlying (supposedly non-writeable) NumPy array using the tensor. You may want to copy the array to protect its data or make it writeable before converting it to a tensor. This type of warning will be suppressed for the rest of this program.\n"
          ],
          "name": "stderr"
        }
      ]
    },
    {
      "cell_type": "code",
      "metadata": {
        "id": "QVmEEXWqs9B-",
        "colab": {
          "base_uri": "https://localhost:8080/",
          "height": 34
        },
        "outputId": "44b35960-d1a4-4295-dd25-ffadc86b1478"
      },
      "source": [
        "len(train_dataset)"
      ],
      "execution_count": null,
      "outputs": [
        {
          "output_type": "execute_result",
          "data": {
            "text/plain": [
              "60000"
            ]
          },
          "metadata": {
            "tags": []
          },
          "execution_count": 5
        }
      ]
    },
    {
      "cell_type": "code",
      "metadata": {
        "id": "gWMSfYdBtOsO"
      },
      "source": [
        "batch_size = 128\n",
        "data_loader = torch.utils.data.DataLoader(dataset=train_dataset, batch_size=batch_size, shuffle=True)"
      ],
      "execution_count": null,
      "outputs": []
    },
    {
      "cell_type": "code",
      "metadata": {
        "id": "CmE4_vMutiBG"
      },
      "source": [
        "#Discriminator\n",
        "\n",
        "D = nn.Sequential(nn.Linear(784, 512), \n",
        "                  nn.LeakyReLU(0.2),\n",
        "                  nn.Linear(512, 256),\n",
        "                  nn.LeakyReLU(0.2),\n",
        "                  nn.Linear(256, 1))"
      ],
      "execution_count": null,
      "outputs": []
    },
    {
      "cell_type": "code",
      "metadata": {
        "id": "Tf_wQslauAlG"
      },
      "source": [
        "latent_dim = 100\n",
        "G = nn.Sequential(nn.Linear(latent_dim, 256),\n",
        "                  nn.LeakyReLU(0.2),\n",
        "                  nn.BatchNorm1d(256, momentum=0.7),\n",
        "                  nn.Linear(256, 512),\n",
        "                  nn.LeakyReLU(0.2),\n",
        "                  nn.BatchNorm1d(512, momentum=0.7),\n",
        "                  nn.Linear(512, 1024),\n",
        "                  nn.LeakyReLU(0.2),\n",
        "                  nn.BatchNorm1d(1024, momentum=0.7),\n",
        "                  nn.Linear(1024, 784),\n",
        "                  nn.Tanh())"
      ],
      "execution_count": null,
      "outputs": []
    },
    {
      "cell_type": "code",
      "metadata": {
        "id": "ooXIY8ojxxWF",
        "colab": {
          "base_uri": "https://localhost:8080/",
          "height": 34
        },
        "outputId": "315afbc4-0fbe-40d9-fda8-95f2bb85608e"
      },
      "source": [
        "device = torch.device(\"cuda:0\" if torch.cuda.is_available() else \"cpu\")\n",
        "print(device)\n",
        "D = D.to(device)\n",
        "G = G.to(device)"
      ],
      "execution_count": null,
      "outputs": [
        {
          "output_type": "stream",
          "text": [
            "cuda:0\n"
          ],
          "name": "stdout"
        }
      ]
    },
    {
      "cell_type": "code",
      "metadata": {
        "id": "7AVHzKcxx_v2"
      },
      "source": [
        "criterion = nn.BCEWithLogitsLoss()\n",
        "d_optimizer = torch.optim.Adam(D.parameters(), lr = 0.0002, betas=(0.5,0.999))\n",
        "g_optimizer = torch.optim.Adam(G.parameters(), lr = 0.0002, betas=(0.5,0.999))"
      ],
      "execution_count": null,
      "outputs": []
    },
    {
      "cell_type": "code",
      "metadata": {
        "id": "BIqCJHHZycZw"
      },
      "source": [
        "def scale_image(img):\n",
        "  out = (img + 1) / 2\n",
        "  return out"
      ],
      "execution_count": null,
      "outputs": []
    },
    {
      "cell_type": "code",
      "metadata": {
        "id": "1d3lOBXpzWZo"
      },
      "source": [
        "if not os.path.exists(\"gan_images\"):\n",
        "  os.makedirs(\"gan_images\")"
      ],
      "execution_count": null,
      "outputs": []
    },
    {
      "cell_type": "code",
      "metadata": {
        "id": "aoENQisRzfx-",
        "colab": {
          "base_uri": "https://localhost:8080/",
          "height": 1000
        },
        "outputId": "8a600a08-2375-4237-819c-84c66f1e0d1d"
      },
      "source": [
        "# training loop\n",
        "\n",
        "ones_ = torch.ones(batch_size,1).to(device)\n",
        "zeros_ = torch.zeros(batch_size,1).to(device)\n",
        "\n",
        "d_losses = []\n",
        "g_losses = []\n",
        "\n",
        "for epoch in range(200):\n",
        "  for inputs, _ in data_loader:\n",
        "    #print(inputs.shape)\n",
        "    n = inputs.size(0)\n",
        "    inputs = inputs.reshape(n, 784).to(device)\n",
        "\n",
        "    ones = ones_[:n]\n",
        "    zeros = zeros_[:n]\n",
        "\n",
        "\n",
        "    ### training discriminator ###\n",
        "\n",
        "    # real images\n",
        "    real_outputs = D(inputs)\n",
        "    d_loss_real = criterion(real_outputs, ones)\n",
        "\n",
        "    # fake images\n",
        "    noise = torch.rand(n, latent_dim).to(device)\n",
        "    fake_images = G(noise)\n",
        "    fake_outputs = D(fake_images)\n",
        "    d_loss_fake = criterion(fake_outputs, zeros)\n",
        "\n",
        "    # gradient descent step\n",
        "    d_loss = 0.5* (d_loss_real+d_loss_fake)\n",
        "    d_optimizer.zero_grad()\n",
        "    g_optimizer.zero_grad()\n",
        "    d_loss.backward()\n",
        "    d_optimizer.step()\n",
        "    \n",
        "    ### train generator ###\n",
        "\n",
        "    for _ in range(2):\n",
        "      # fake images\n",
        "      noise = torch.rand(n, latent_dim).to(device)\n",
        "      fake_images = G(noise)\n",
        "      fake_outputs = D(fake_images)\n",
        "\n",
        "      g_loss = criterion(fake_outputs, ones)\n",
        "\n",
        "      d_optimizer.zero_grad()\n",
        "      g_optimizer.zero_grad()\n",
        "      g_loss.backward()\n",
        "      g_optimizer.step()\n",
        "\n",
        "    d_losses.append(d_loss.item())\n",
        "    g_losses.append(g_loss.item())\n",
        "\n",
        "  print(\"epoch: {}, d_loss: {}, g_loss: {}\".format(epoch, d_loss.item(), g_loss.item()))\n",
        "\n",
        "  fake_images = fake_images.reshape(-1,1,28,28)\n",
        "  save_image(scale_image(fake_images), f\"gan_images/{epoch+1}.png\")\n"
      ],
      "execution_count": null,
      "outputs": [
        {
          "output_type": "stream",
          "text": [
            "epoch: 0, d_loss: 0.6915111541748047, g_loss: 0.7321199178695679\n",
            "epoch: 1, d_loss: 0.6817969679832458, g_loss: 0.6892649531364441\n",
            "epoch: 2, d_loss: 0.6906196475028992, g_loss: 0.6711704134941101\n",
            "epoch: 3, d_loss: 0.683830201625824, g_loss: 0.7287164926528931\n",
            "epoch: 4, d_loss: 0.6675338745117188, g_loss: 0.759560227394104\n",
            "epoch: 5, d_loss: 0.6826400756835938, g_loss: 0.7208020091056824\n",
            "epoch: 6, d_loss: 0.6924548745155334, g_loss: 0.7565855979919434\n",
            "epoch: 7, d_loss: 0.6957719326019287, g_loss: 0.704592227935791\n",
            "epoch: 8, d_loss: 0.6866205930709839, g_loss: 0.7063879370689392\n",
            "epoch: 9, d_loss: 0.674645185470581, g_loss: 0.7176911234855652\n",
            "epoch: 10, d_loss: 0.6851933598518372, g_loss: 0.713244616985321\n",
            "epoch: 11, d_loss: 0.6893501281738281, g_loss: 0.7463488578796387\n",
            "epoch: 12, d_loss: 0.6851441860198975, g_loss: 0.6878588199615479\n",
            "epoch: 13, d_loss: 0.6765113472938538, g_loss: 0.7466691732406616\n",
            "epoch: 14, d_loss: 0.680479884147644, g_loss: 0.7275842428207397\n",
            "epoch: 15, d_loss: 0.6786441802978516, g_loss: 0.7532071471214294\n",
            "epoch: 16, d_loss: 0.6853642463684082, g_loss: 0.6816978454589844\n",
            "epoch: 17, d_loss: 0.6804239153862, g_loss: 0.7176253199577332\n",
            "epoch: 18, d_loss: 0.6696420311927795, g_loss: 0.7570352554321289\n",
            "epoch: 19, d_loss: 0.6772891283035278, g_loss: 0.6879488825798035\n",
            "epoch: 20, d_loss: 0.6757290959358215, g_loss: 0.7120065689086914\n",
            "epoch: 21, d_loss: 0.6716439723968506, g_loss: 0.7888514399528503\n",
            "epoch: 22, d_loss: 0.6776995658874512, g_loss: 0.7946130633354187\n",
            "epoch: 23, d_loss: 0.6883496642112732, g_loss: 0.6896578669548035\n",
            "epoch: 24, d_loss: 0.6614823937416077, g_loss: 0.7318696975708008\n",
            "epoch: 25, d_loss: 0.6799360513687134, g_loss: 0.7676686644554138\n",
            "epoch: 26, d_loss: 0.6699271202087402, g_loss: 0.7581971883773804\n",
            "epoch: 27, d_loss: 0.6719681024551392, g_loss: 0.6941530704498291\n",
            "epoch: 28, d_loss: 0.6731381416320801, g_loss: 0.7083494067192078\n",
            "epoch: 29, d_loss: 0.7059599161148071, g_loss: 0.8494899272918701\n",
            "epoch: 30, d_loss: 0.6758454442024231, g_loss: 0.7371916174888611\n",
            "epoch: 31, d_loss: 0.6618524789810181, g_loss: 0.7326645851135254\n",
            "epoch: 32, d_loss: 0.6633204221725464, g_loss: 0.6687483191490173\n",
            "epoch: 33, d_loss: 0.6630812287330627, g_loss: 0.8426105976104736\n",
            "epoch: 34, d_loss: 0.6683168411254883, g_loss: 0.6447853446006775\n",
            "epoch: 35, d_loss: 0.6732449531555176, g_loss: 0.7643394470214844\n",
            "epoch: 36, d_loss: 0.6928737163543701, g_loss: 0.854407787322998\n",
            "epoch: 37, d_loss: 0.6826163530349731, g_loss: 0.9634713530540466\n",
            "epoch: 38, d_loss: 0.6499506831169128, g_loss: 0.7552686929702759\n",
            "epoch: 39, d_loss: 0.665464460849762, g_loss: 0.7128046751022339\n",
            "epoch: 40, d_loss: 0.6607822179794312, g_loss: 0.7223132848739624\n",
            "epoch: 41, d_loss: 0.6507266759872437, g_loss: 0.6231889724731445\n",
            "epoch: 42, d_loss: 0.6515178680419922, g_loss: 0.8623687624931335\n",
            "epoch: 43, d_loss: 0.6338465809822083, g_loss: 0.6711713671684265\n",
            "epoch: 44, d_loss: 0.6195483207702637, g_loss: 0.7028049230575562\n",
            "epoch: 45, d_loss: 0.6648952960968018, g_loss: 0.9340972900390625\n",
            "epoch: 46, d_loss: 0.6813451647758484, g_loss: 1.0393891334533691\n",
            "epoch: 47, d_loss: 0.6730495691299438, g_loss: 0.679527223110199\n",
            "epoch: 48, d_loss: 0.6447272896766663, g_loss: 0.8025608062744141\n",
            "epoch: 49, d_loss: 0.6416711807250977, g_loss: 0.7419257164001465\n",
            "epoch: 50, d_loss: 0.6611812114715576, g_loss: 0.6243398189544678\n",
            "epoch: 51, d_loss: 0.6387084722518921, g_loss: 0.9380156993865967\n",
            "epoch: 52, d_loss: 0.606185793876648, g_loss: 0.8193344473838806\n",
            "epoch: 53, d_loss: 0.6255218982696533, g_loss: 0.6347838640213013\n",
            "epoch: 54, d_loss: 0.6466299295425415, g_loss: 0.7820013761520386\n",
            "epoch: 55, d_loss: 0.6584761142730713, g_loss: 0.6300777196884155\n",
            "epoch: 56, d_loss: 0.633000373840332, g_loss: 0.812804102897644\n",
            "epoch: 57, d_loss: 0.6222039461135864, g_loss: 0.7044639587402344\n",
            "epoch: 58, d_loss: 0.639306902885437, g_loss: 0.9719980955123901\n",
            "epoch: 59, d_loss: 0.6455891728401184, g_loss: 0.7959262132644653\n",
            "epoch: 60, d_loss: 0.6186596155166626, g_loss: 0.7254430055618286\n",
            "epoch: 61, d_loss: 0.6549623012542725, g_loss: 0.8022710084915161\n",
            "epoch: 62, d_loss: 0.595053493976593, g_loss: 0.6794090270996094\n",
            "epoch: 63, d_loss: 0.6735407114028931, g_loss: 1.0378131866455078\n",
            "epoch: 64, d_loss: 0.6615201234817505, g_loss: 1.3055517673492432\n",
            "epoch: 65, d_loss: 0.6355710625648499, g_loss: 0.777682900428772\n",
            "epoch: 66, d_loss: 0.5945783853530884, g_loss: 0.991616427898407\n",
            "epoch: 67, d_loss: 0.6123695969581604, g_loss: 0.8340041041374207\n",
            "epoch: 68, d_loss: 0.6004979610443115, g_loss: 1.0968329906463623\n",
            "epoch: 69, d_loss: 0.5815739035606384, g_loss: 1.106605887413025\n",
            "epoch: 70, d_loss: 0.6225535869598389, g_loss: 0.7188149690628052\n",
            "epoch: 71, d_loss: 0.6222107410430908, g_loss: 0.9032861590385437\n",
            "epoch: 72, d_loss: 0.6226619482040405, g_loss: 1.1001720428466797\n",
            "epoch: 73, d_loss: 0.5824106931686401, g_loss: 0.9948344230651855\n",
            "epoch: 74, d_loss: 0.6564224362373352, g_loss: 1.1038401126861572\n",
            "epoch: 75, d_loss: 0.635704517364502, g_loss: 0.8317860960960388\n",
            "epoch: 76, d_loss: 0.6374432444572449, g_loss: 0.8261188268661499\n",
            "epoch: 77, d_loss: 0.5931239724159241, g_loss: 0.8649777173995972\n",
            "epoch: 78, d_loss: 0.6682949662208557, g_loss: 0.587466835975647\n",
            "epoch: 79, d_loss: 0.636819064617157, g_loss: 1.1838407516479492\n",
            "epoch: 80, d_loss: 0.6033081412315369, g_loss: 0.9752406477928162\n",
            "epoch: 81, d_loss: 0.5867351293563843, g_loss: 0.853415846824646\n",
            "epoch: 82, d_loss: 0.5898596048355103, g_loss: 0.9978489875793457\n",
            "epoch: 83, d_loss: 0.5974887609481812, g_loss: 1.1456286907196045\n",
            "epoch: 84, d_loss: 0.6281881332397461, g_loss: 0.9068397283554077\n",
            "epoch: 85, d_loss: 0.6093287467956543, g_loss: 0.8116633892059326\n",
            "epoch: 86, d_loss: 0.5994640588760376, g_loss: 0.9228434562683105\n",
            "epoch: 87, d_loss: 0.607044517993927, g_loss: 0.9471628665924072\n",
            "epoch: 88, d_loss: 0.6026065349578857, g_loss: 0.7579622268676758\n",
            "epoch: 89, d_loss: 0.6142139434814453, g_loss: 1.0463238954544067\n",
            "epoch: 90, d_loss: 0.6151933670043945, g_loss: 0.8820919394493103\n",
            "epoch: 91, d_loss: 0.61142897605896, g_loss: 0.8141582012176514\n",
            "epoch: 92, d_loss: 0.6017309427261353, g_loss: 0.8191244602203369\n",
            "epoch: 93, d_loss: 0.5956806540489197, g_loss: 1.0069301128387451\n",
            "epoch: 94, d_loss: 0.6356825828552246, g_loss: 0.7514446973800659\n",
            "epoch: 95, d_loss: 0.5977450609207153, g_loss: 0.9286960363388062\n",
            "epoch: 96, d_loss: 0.6082736253738403, g_loss: 1.0660841464996338\n",
            "epoch: 97, d_loss: 0.6162065863609314, g_loss: 1.0805494785308838\n",
            "epoch: 98, d_loss: 0.6367442607879639, g_loss: 1.120644450187683\n",
            "epoch: 99, d_loss: 0.6005099415779114, g_loss: 1.0200169086456299\n",
            "epoch: 100, d_loss: 0.6241353750228882, g_loss: 1.130644679069519\n",
            "epoch: 101, d_loss: 0.5940378904342651, g_loss: 0.8041304349899292\n",
            "epoch: 102, d_loss: 0.6115391254425049, g_loss: 0.8103103041648865\n",
            "epoch: 103, d_loss: 0.613679051399231, g_loss: 0.9125075340270996\n",
            "epoch: 104, d_loss: 0.6029191017150879, g_loss: 0.818130373954773\n",
            "epoch: 105, d_loss: 0.6051961779594421, g_loss: 0.8487133979797363\n",
            "epoch: 106, d_loss: 0.5536959171295166, g_loss: 1.0241073369979858\n",
            "epoch: 107, d_loss: 0.6545222997665405, g_loss: 1.2739983797073364\n",
            "epoch: 108, d_loss: 0.5947128534317017, g_loss: 0.8219242095947266\n",
            "epoch: 109, d_loss: 0.6577727198600769, g_loss: 1.3464244604110718\n",
            "epoch: 110, d_loss: 0.5576847791671753, g_loss: 0.9326012134552002\n",
            "epoch: 111, d_loss: 0.5989304780960083, g_loss: 0.8236416578292847\n",
            "epoch: 112, d_loss: 0.5527921915054321, g_loss: 0.8275941610336304\n",
            "epoch: 113, d_loss: 0.6083764433860779, g_loss: 1.2342829704284668\n",
            "epoch: 114, d_loss: 0.5546376705169678, g_loss: 0.9687919616699219\n",
            "epoch: 115, d_loss: 0.6099587082862854, g_loss: 1.3425177335739136\n",
            "epoch: 116, d_loss: 0.631872296333313, g_loss: 1.5192598104476929\n",
            "epoch: 117, d_loss: 0.5817760825157166, g_loss: 0.8956408500671387\n",
            "epoch: 118, d_loss: 0.5699540376663208, g_loss: 1.0444048643112183\n",
            "epoch: 119, d_loss: 0.6099584698677063, g_loss: 1.1512515544891357\n",
            "epoch: 120, d_loss: 0.594323992729187, g_loss: 0.8462927341461182\n",
            "epoch: 121, d_loss: 0.62979656457901, g_loss: 0.9249541163444519\n",
            "epoch: 122, d_loss: 0.5718994140625, g_loss: 0.924238920211792\n",
            "epoch: 123, d_loss: 0.5875036716461182, g_loss: 1.5025080442428589\n",
            "epoch: 124, d_loss: 0.5925367474555969, g_loss: 0.8696433901786804\n",
            "epoch: 125, d_loss: 0.5736702680587769, g_loss: 0.8744407892227173\n",
            "epoch: 126, d_loss: 0.6187071204185486, g_loss: 0.7234463691711426\n",
            "epoch: 127, d_loss: 0.6061002612113953, g_loss: 0.8106380701065063\n",
            "epoch: 128, d_loss: 0.6006433963775635, g_loss: 1.0186328887939453\n",
            "epoch: 129, d_loss: 0.6237578392028809, g_loss: 0.9721009135246277\n",
            "epoch: 130, d_loss: 0.6139342784881592, g_loss: 0.9101616144180298\n",
            "epoch: 131, d_loss: 0.5618369579315186, g_loss: 0.9203110933303833\n",
            "epoch: 132, d_loss: 0.613851010799408, g_loss: 0.7854886054992676\n",
            "epoch: 133, d_loss: 0.5503580570220947, g_loss: 1.0219193696975708\n",
            "epoch: 134, d_loss: 0.591103732585907, g_loss: 1.1554197072982788\n",
            "epoch: 135, d_loss: 0.5672503709793091, g_loss: 0.8102874159812927\n",
            "epoch: 136, d_loss: 0.5893384218215942, g_loss: 0.978188693523407\n",
            "epoch: 137, d_loss: 0.5632288455963135, g_loss: 0.9402949213981628\n",
            "epoch: 138, d_loss: 0.6136866807937622, g_loss: 1.2835924625396729\n",
            "epoch: 139, d_loss: 0.5699757933616638, g_loss: 0.7807832956314087\n",
            "epoch: 140, d_loss: 0.6094576120376587, g_loss: 0.7267056703567505\n",
            "epoch: 141, d_loss: 0.5605349540710449, g_loss: 1.0200830698013306\n",
            "epoch: 142, d_loss: 0.5571773052215576, g_loss: 0.9299228191375732\n",
            "epoch: 143, d_loss: 0.5974652767181396, g_loss: 1.111823558807373\n",
            "epoch: 144, d_loss: 0.5577239990234375, g_loss: 1.0983526706695557\n",
            "epoch: 145, d_loss: 0.5840153694152832, g_loss: 1.0057889223098755\n",
            "epoch: 146, d_loss: 0.5703356266021729, g_loss: 0.8296054601669312\n",
            "epoch: 147, d_loss: 0.6123799085617065, g_loss: 1.1619019508361816\n",
            "epoch: 148, d_loss: 0.591054379940033, g_loss: 1.0290886163711548\n",
            "epoch: 149, d_loss: 0.618421196937561, g_loss: 0.7493612170219421\n",
            "epoch: 150, d_loss: 0.5706753134727478, g_loss: 1.2854125499725342\n",
            "epoch: 151, d_loss: 0.6209256052970886, g_loss: 0.7729203104972839\n",
            "epoch: 152, d_loss: 0.5835119485855103, g_loss: 0.9059485197067261\n",
            "epoch: 153, d_loss: 0.5635747313499451, g_loss: 0.7521659731864929\n",
            "epoch: 154, d_loss: 0.567670464515686, g_loss: 0.9634911417961121\n",
            "epoch: 155, d_loss: 0.5699034929275513, g_loss: 1.298816204071045\n",
            "epoch: 156, d_loss: 0.5631128549575806, g_loss: 0.8574932813644409\n",
            "epoch: 157, d_loss: 0.5529972910881042, g_loss: 0.9577617645263672\n",
            "epoch: 158, d_loss: 0.5541126132011414, g_loss: 0.9813742637634277\n",
            "epoch: 159, d_loss: 0.557680606842041, g_loss: 1.1198228597640991\n",
            "epoch: 160, d_loss: 0.5548276901245117, g_loss: 0.8801288604736328\n",
            "epoch: 161, d_loss: 0.5893350839614868, g_loss: 0.8861570358276367\n",
            "epoch: 162, d_loss: 0.5930348634719849, g_loss: 1.5342204570770264\n",
            "epoch: 163, d_loss: 0.5723710656166077, g_loss: 1.0534989833831787\n",
            "epoch: 164, d_loss: 0.5841929912567139, g_loss: 1.138153076171875\n",
            "epoch: 165, d_loss: 0.5630452632904053, g_loss: 1.253071665763855\n",
            "epoch: 166, d_loss: 0.5546780824661255, g_loss: 1.1073954105377197\n",
            "epoch: 167, d_loss: 0.5552226305007935, g_loss: 0.7904014587402344\n",
            "epoch: 168, d_loss: 0.5435647964477539, g_loss: 0.8577963709831238\n",
            "epoch: 169, d_loss: 0.5060040354728699, g_loss: 1.4040429592132568\n",
            "epoch: 170, d_loss: 0.5977045297622681, g_loss: 0.8789965510368347\n",
            "epoch: 171, d_loss: 0.5439438819885254, g_loss: 1.298792839050293\n",
            "epoch: 172, d_loss: 0.5594215393066406, g_loss: 1.092987060546875\n",
            "epoch: 173, d_loss: 0.5773031115531921, g_loss: 0.6884962916374207\n",
            "epoch: 174, d_loss: 0.6055114269256592, g_loss: 1.0769968032836914\n",
            "epoch: 175, d_loss: 0.5827919840812683, g_loss: 0.8923451900482178\n",
            "epoch: 176, d_loss: 0.5481992363929749, g_loss: 0.8441226482391357\n",
            "epoch: 177, d_loss: 0.6054520010948181, g_loss: 0.6592620611190796\n",
            "epoch: 178, d_loss: 0.5800403356552124, g_loss: 0.8601981401443481\n",
            "epoch: 179, d_loss: 0.5514849424362183, g_loss: 1.0663130283355713\n",
            "epoch: 180, d_loss: 0.5164058208465576, g_loss: 1.1796420812606812\n",
            "epoch: 181, d_loss: 0.5745922327041626, g_loss: 0.8822450637817383\n",
            "epoch: 182, d_loss: 0.5453760623931885, g_loss: 1.0350794792175293\n",
            "epoch: 183, d_loss: 0.6119834184646606, g_loss: 1.248721718788147\n",
            "epoch: 184, d_loss: 0.6137551069259644, g_loss: 1.022090196609497\n",
            "epoch: 185, d_loss: 0.5495089888572693, g_loss: 1.5350604057312012\n",
            "epoch: 186, d_loss: 0.5514065623283386, g_loss: 1.0251907110214233\n",
            "epoch: 187, d_loss: 0.49999168515205383, g_loss: 1.2661685943603516\n",
            "epoch: 188, d_loss: 0.7311820387840271, g_loss: 1.4883604049682617\n",
            "epoch: 189, d_loss: 0.5566269159317017, g_loss: 1.082080602645874\n",
            "epoch: 190, d_loss: 0.5205755233764648, g_loss: 1.248769760131836\n",
            "epoch: 191, d_loss: 0.5225794911384583, g_loss: 1.3201565742492676\n",
            "epoch: 192, d_loss: 0.5311161279678345, g_loss: 1.0182262659072876\n",
            "epoch: 193, d_loss: 0.5883513689041138, g_loss: 1.5980145931243896\n",
            "epoch: 194, d_loss: 0.544864296913147, g_loss: 1.2717139720916748\n",
            "epoch: 195, d_loss: 0.5298793315887451, g_loss: 1.2881819009780884\n",
            "epoch: 196, d_loss: 0.5730828642845154, g_loss: 1.077187418937683\n",
            "epoch: 197, d_loss: 0.5802127122879028, g_loss: 1.3172812461853027\n",
            "epoch: 198, d_loss: 0.5139504671096802, g_loss: 1.189997911453247\n",
            "epoch: 199, d_loss: 0.6205031871795654, g_loss: 0.9252114295959473\n"
          ],
          "name": "stdout"
        }
      ]
    },
    {
      "cell_type": "code",
      "metadata": {
        "id": "BXW-LNMP5GAX"
      },
      "source": [
        ""
      ],
      "execution_count": null,
      "outputs": []
    }
  ]
}