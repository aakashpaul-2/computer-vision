{
  "nbformat": 4,
  "nbformat_minor": 0,
  "metadata": {
    "colab": {
      "name": "FACERECOG.ipynb",
      "provenance": [],
      "collapsed_sections": [],
      "authorship_tag": "ABX9TyNhBlXuNH06GxHaM3qONsfh",
      "include_colab_link": true
    },
    "kernelspec": {
      "name": "python3",
      "display_name": "Python 3"
    },
    "accelerator": "GPU"
  },
  "cells": [
    {
      "cell_type": "markdown",
      "metadata": {
        "id": "view-in-github",
        "colab_type": "text"
      },
      "source": [
        "<a href=\"https://colab.research.google.com/github/aakashpaul-2/computer-vision/blob/main/siamese-network-facial-recognition.ipynb\" target=\"_parent\"><img src=\"https://colab.research.google.com/assets/colab-badge.svg\" alt=\"Open In Colab\"/></a>"
      ]
    },
    {
      "cell_type": "code",
      "metadata": {
        "id": "-N-2qFkP2w8p"
      },
      "source": [
        "import torch\n",
        "import torch.nn as nn\n",
        "import torchvision\n",
        "from torchvision import datasets, transforms, models\n",
        "from torchvision.utils import save_image\n",
        "import numpy as np\n",
        "import matplotlib.pyplot as plt\n",
        "from datetime import datetime\n",
        "import sys, os\n",
        "from glob import glob\n",
        "import imageio\n",
        "\n",
        "from collections import Counter"
      ],
      "execution_count": null,
      "outputs": []
    },
    {
      "cell_type": "code",
      "metadata": {
        "id": "FTIMRWbo21hS"
      },
      "source": [
        "try:\n",
        "  %tensorflow_version 2.x\n",
        "except Exception:\n",
        "  pass"
      ],
      "execution_count": null,
      "outputs": []
    },
    {
      "cell_type": "code",
      "metadata": {
        "id": "exQVxjNK30DW",
        "colab": {
          "base_uri": "https://localhost:8080/",
          "height": 34
        },
        "outputId": "cc0bd365-2e69-49d3-9b80-693c2a6b4a04"
      },
      "source": [
        "import tensorflow as tf\n",
        "print(tf.__version__)\n",
        "from keras_preprocessing import image"
      ],
      "execution_count": null,
      "outputs": [
        {
          "output_type": "stream",
          "text": [
            "2.2.0\n"
          ],
          "name": "stdout"
        }
      ]
    },
    {
      "cell_type": "code",
      "metadata": {
        "id": "0Gos-tam4HhW",
        "colab": {
          "base_uri": "https://localhost:8080/",
          "height": 204
        },
        "outputId": "4e56685f-f9fb-4b69-86ba-896a64eda64f"
      },
      "source": [
        "!wget -nc http://vision.ucsd.edu/datasets/yale_face_dataset_original/yalefaces.zip\n"
      ],
      "execution_count": null,
      "outputs": [
        {
          "output_type": "stream",
          "text": [
            "--2020-07-06 21:04:08--  http://vision.ucsd.edu/datasets/yale_face_dataset_original/yalefaces.zip\n",
            "Resolving vision.ucsd.edu (vision.ucsd.edu)... 132.239.95.98\n",
            "Connecting to vision.ucsd.edu (vision.ucsd.edu)|132.239.95.98|:80... connected.\n",
            "HTTP request sent, awaiting response... 200 OK\n",
            "Length: 6206308 (5.9M) [application/zip]\n",
            "Saving to: ‘yalefaces.zip’\n",
            "\n",
            "yalefaces.zip       100%[===================>]   5.92M   304KB/s    in 20s     \n",
            "\n",
            "2020-07-06 21:04:29 (296 KB/s) - ‘yalefaces.zip’ saved [6206308/6206308]\n",
            "\n"
          ],
          "name": "stdout"
        }
      ]
    },
    {
      "cell_type": "code",
      "metadata": {
        "id": "ucsqF4QR4X4u",
        "colab": {
          "base_uri": "https://localhost:8080/",
          "height": 1000
        },
        "outputId": "b7b4ab7f-1961-409a-ac16-b74b40ec7b4a"
      },
      "source": [
        "!unzip yalefaces.zip"
      ],
      "execution_count": null,
      "outputs": [
        {
          "output_type": "stream",
          "text": [
            "Archive:  yalefaces.zip\n",
            "   creating: yalefaces/\n",
            "  inflating: yalefaces/Readme.txt    \n",
            "   creating: __MACOSX/\n",
            "   creating: __MACOSX/yalefaces/\n",
            "  inflating: __MACOSX/yalefaces/._Readme.txt  \n",
            "  inflating: yalefaces/subject01.gif  \n",
            "  inflating: yalefaces/subject01.glasses  \n",
            "  inflating: yalefaces/subject01.glasses.gif  \n",
            "  inflating: yalefaces/subject01.happy  \n",
            "  inflating: yalefaces/subject01.leftlight  \n",
            "  inflating: yalefaces/subject01.noglasses  \n",
            "  inflating: yalefaces/subject01.normal  \n",
            "  inflating: yalefaces/subject01.rightlight  \n",
            "  inflating: yalefaces/subject01.sad  \n",
            "  inflating: yalefaces/subject01.sleepy  \n",
            "  inflating: yalefaces/subject01.surprised  \n",
            "  inflating: yalefaces/subject01.wink  \n",
            "  inflating: yalefaces/subject02.centerlight  \n",
            "  inflating: yalefaces/subject02.glasses  \n",
            "  inflating: yalefaces/subject02.happy  \n",
            "  inflating: yalefaces/subject02.leftlight  \n",
            "  inflating: yalefaces/subject02.noglasses  \n",
            "  inflating: yalefaces/subject02.normal  \n",
            "  inflating: yalefaces/subject02.rightlight  \n",
            "  inflating: yalefaces/subject02.sad  \n",
            "  inflating: yalefaces/subject02.sleepy  \n",
            "  inflating: yalefaces/subject02.surprised  \n",
            "  inflating: yalefaces/subject02.wink  \n",
            "  inflating: yalefaces/subject03.centerlight  \n",
            "  inflating: yalefaces/subject03.glasses  \n",
            "  inflating: yalefaces/subject03.happy  \n",
            "  inflating: yalefaces/subject03.leftlight  \n",
            "  inflating: yalefaces/subject03.noglasses  \n",
            "  inflating: yalefaces/subject03.normal  \n",
            "  inflating: yalefaces/subject03.rightlight  \n",
            "  inflating: yalefaces/subject03.sad  \n",
            "  inflating: yalefaces/subject03.sleepy  \n",
            "  inflating: yalefaces/subject03.surprised  \n",
            "  inflating: yalefaces/subject03.wink  \n",
            "  inflating: yalefaces/subject04.centerlight  \n",
            "  inflating: yalefaces/subject04.glasses  \n",
            "  inflating: yalefaces/subject04.happy  \n",
            "  inflating: yalefaces/subject04.leftlight  \n",
            "  inflating: yalefaces/subject04.noglasses  \n",
            "  inflating: yalefaces/subject04.normal  \n",
            "  inflating: yalefaces/subject04.rightlight  \n",
            "  inflating: yalefaces/subject04.sad  \n",
            "  inflating: yalefaces/subject04.sleepy  \n",
            "  inflating: yalefaces/subject04.surprised  \n",
            "  inflating: yalefaces/subject04.wink  \n",
            "  inflating: yalefaces/subject05.centerlight  \n",
            "  inflating: yalefaces/subject05.glasses  \n",
            "  inflating: yalefaces/subject05.happy  \n",
            "  inflating: yalefaces/subject05.leftlight  \n",
            "  inflating: yalefaces/subject05.noglasses  \n",
            "  inflating: yalefaces/subject05.normal  \n",
            "  inflating: yalefaces/subject05.rightlight  \n",
            "  inflating: yalefaces/subject05.sad  \n",
            "  inflating: yalefaces/subject05.sleepy  \n",
            "  inflating: yalefaces/subject05.surprised  \n",
            "  inflating: yalefaces/subject05.wink  \n",
            "  inflating: yalefaces/subject06.centerlight  \n",
            "  inflating: yalefaces/subject06.glasses  \n",
            "  inflating: yalefaces/subject06.happy  \n",
            "  inflating: yalefaces/subject06.leftlight  \n",
            "  inflating: yalefaces/subject06.noglasses  \n",
            "  inflating: yalefaces/subject06.normal  \n",
            "  inflating: yalefaces/subject06.rightlight  \n",
            "  inflating: yalefaces/subject06.sad  \n",
            "  inflating: yalefaces/subject06.sleepy  \n",
            "  inflating: yalefaces/subject06.surprised  \n",
            "  inflating: yalefaces/subject06.wink  \n",
            "  inflating: yalefaces/subject07.centerlight  \n",
            "  inflating: yalefaces/subject07.glasses  \n",
            "  inflating: yalefaces/subject07.happy  \n",
            "  inflating: yalefaces/subject07.leftlight  \n",
            "  inflating: yalefaces/subject07.noglasses  \n",
            "  inflating: yalefaces/subject07.normal  \n",
            "  inflating: yalefaces/subject07.rightlight  \n",
            "  inflating: yalefaces/subject07.sad  \n",
            "  inflating: yalefaces/subject07.sleepy  \n",
            "  inflating: yalefaces/subject07.surprised  \n",
            "  inflating: yalefaces/subject07.wink  \n",
            "  inflating: yalefaces/subject08.centerlight  \n",
            "  inflating: yalefaces/subject08.glasses  \n",
            "  inflating: yalefaces/subject08.happy  \n",
            "  inflating: yalefaces/subject08.leftlight  \n",
            "  inflating: yalefaces/subject08.noglasses  \n",
            "  inflating: yalefaces/subject08.normal  \n",
            "  inflating: yalefaces/subject08.rightlight  \n",
            "  inflating: yalefaces/subject08.sad  \n",
            "  inflating: yalefaces/subject08.sleepy  \n",
            "  inflating: yalefaces/subject08.surprised  \n",
            "  inflating: yalefaces/subject08.wink  \n",
            "  inflating: yalefaces/subject09.centerlight  \n",
            "  inflating: yalefaces/subject09.glasses  \n",
            "  inflating: yalefaces/subject09.happy  \n",
            "  inflating: yalefaces/subject09.leftlight  \n",
            "  inflating: yalefaces/subject09.noglasses  \n",
            "  inflating: yalefaces/subject09.normal  \n",
            "  inflating: yalefaces/subject09.rightlight  \n",
            "  inflating: yalefaces/subject09.sad  \n",
            "  inflating: yalefaces/subject09.sleepy  \n",
            "  inflating: yalefaces/subject09.surprised  \n",
            "  inflating: yalefaces/subject09.wink  \n",
            "  inflating: yalefaces/subject10.centerlight  \n",
            "  inflating: yalefaces/subject10.glasses  \n",
            "  inflating: yalefaces/subject10.happy  \n",
            "  inflating: yalefaces/subject10.leftlight  \n",
            "  inflating: yalefaces/subject10.noglasses  \n",
            "  inflating: yalefaces/subject10.normal  \n",
            "  inflating: yalefaces/subject10.rightlight  \n",
            "  inflating: yalefaces/subject10.sad  \n",
            "  inflating: yalefaces/subject10.sleepy  \n",
            "  inflating: yalefaces/subject10.surprised  \n",
            "  inflating: yalefaces/subject10.wink  \n",
            "  inflating: yalefaces/subject11.centerlight  \n",
            "  inflating: yalefaces/subject11.glasses  \n",
            "  inflating: yalefaces/subject11.happy  \n",
            "  inflating: yalefaces/subject11.leftlight  \n",
            "  inflating: yalefaces/subject11.noglasses  \n",
            "  inflating: yalefaces/subject11.normal  \n",
            "  inflating: yalefaces/subject11.rightlight  \n",
            "  inflating: yalefaces/subject11.sad  \n",
            "  inflating: yalefaces/subject11.sleepy  \n",
            "  inflating: yalefaces/subject11.surprised  \n",
            "  inflating: yalefaces/subject11.wink  \n",
            "  inflating: yalefaces/subject12.centerlight  \n",
            "  inflating: yalefaces/subject12.glasses  \n",
            "  inflating: yalefaces/subject12.happy  \n",
            "  inflating: yalefaces/subject12.leftlight  \n",
            "  inflating: yalefaces/subject12.noglasses  \n",
            "  inflating: yalefaces/subject12.normal  \n",
            "  inflating: yalefaces/subject12.rightlight  \n",
            "  inflating: yalefaces/subject12.sad  \n",
            "  inflating: yalefaces/subject12.sleepy  \n",
            "  inflating: yalefaces/subject12.surprised  \n",
            "  inflating: yalefaces/subject12.wink  \n",
            "  inflating: yalefaces/subject13.centerlight  \n",
            "  inflating: yalefaces/subject13.glasses  \n",
            "  inflating: yalefaces/subject13.happy  \n",
            "  inflating: yalefaces/subject13.leftlight  \n",
            "  inflating: yalefaces/subject13.noglasses  \n",
            "  inflating: yalefaces/subject13.normal  \n",
            "  inflating: yalefaces/subject13.rightlight  \n",
            "  inflating: yalefaces/subject13.sad  \n",
            "  inflating: yalefaces/subject13.sleepy  \n",
            "  inflating: yalefaces/subject13.surprised  \n",
            "  inflating: yalefaces/subject13.wink  \n",
            "  inflating: yalefaces/subject14.centerlight  \n",
            "  inflating: yalefaces/subject14.glasses  \n",
            "  inflating: yalefaces/subject14.happy  \n",
            "  inflating: yalefaces/subject14.leftlight  \n",
            "  inflating: yalefaces/subject14.noglasses  \n",
            "  inflating: yalefaces/subject14.normal  \n",
            "  inflating: yalefaces/subject14.rightlight  \n",
            "  inflating: yalefaces/subject14.sad  \n",
            "  inflating: yalefaces/subject14.sleepy  \n",
            "  inflating: yalefaces/subject14.surprised  \n",
            "  inflating: yalefaces/subject14.wink  \n",
            "  inflating: yalefaces/subject15.centerlight  \n",
            "  inflating: yalefaces/subject15.glasses  \n",
            "  inflating: yalefaces/subject15.happy  \n",
            "  inflating: yalefaces/subject15.leftlight  \n",
            "  inflating: yalefaces/subject15.noglasses  \n",
            "  inflating: yalefaces/subject15.normal  \n",
            "  inflating: yalefaces/subject15.rightlight  \n",
            "  inflating: yalefaces/subject15.sad  \n",
            "  inflating: yalefaces/subject15.sleepy  \n",
            "  inflating: yalefaces/subject15.surprised  \n",
            "  inflating: yalefaces/subject15.wink  \n"
          ],
          "name": "stdout"
        }
      ]
    },
    {
      "cell_type": "code",
      "metadata": {
        "id": "L7gx7H974zD2"
      },
      "source": [
        "files = glob(\"yalefaces/subject*\")"
      ],
      "execution_count": null,
      "outputs": []
    },
    {
      "cell_type": "code",
      "metadata": {
        "id": "Wn7XK-v_83p-",
        "colab": {
          "base_uri": "https://localhost:8080/",
          "height": 1000
        },
        "outputId": "e0ac2ba9-ec6f-465c-ec54-b806b9f8bcc9"
      },
      "source": [
        "files"
      ],
      "execution_count": null,
      "outputs": [
        {
          "output_type": "execute_result",
          "data": {
            "text/plain": [
              "['yalefaces/subject12.sad',\n",
              " 'yalefaces/subject08.wink',\n",
              " 'yalefaces/subject03.centerlight',\n",
              " 'yalefaces/subject04.happy',\n",
              " 'yalefaces/subject07.noglasses',\n",
              " 'yalefaces/subject13.noglasses',\n",
              " 'yalefaces/subject05.surprised',\n",
              " 'yalefaces/subject15.leftlight',\n",
              " 'yalefaces/subject06.sleepy',\n",
              " 'yalefaces/subject12.glasses',\n",
              " 'yalefaces/subject07.sad',\n",
              " 'yalefaces/subject15.wink',\n",
              " 'yalefaces/subject02.sad',\n",
              " 'yalefaces/subject13.happy',\n",
              " 'yalefaces/subject07.sleepy',\n",
              " 'yalefaces/subject01.glasses',\n",
              " 'yalefaces/subject15.normal',\n",
              " 'yalefaces/subject15.centerlight',\n",
              " 'yalefaces/subject11.wink',\n",
              " 'yalefaces/subject02.noglasses',\n",
              " 'yalefaces/subject05.glasses',\n",
              " 'yalefaces/subject06.happy',\n",
              " 'yalefaces/subject08.sad',\n",
              " 'yalefaces/subject03.sleepy',\n",
              " 'yalefaces/subject10.wink',\n",
              " 'yalefaces/subject15.sleepy',\n",
              " 'yalefaces/subject14.sad',\n",
              " 'yalefaces/subject06.rightlight',\n",
              " 'yalefaces/subject07.rightlight',\n",
              " 'yalefaces/subject12.centerlight',\n",
              " 'yalefaces/subject12.noglasses',\n",
              " 'yalefaces/subject15.happy',\n",
              " 'yalefaces/subject11.glasses',\n",
              " 'yalefaces/subject11.rightlight',\n",
              " 'yalefaces/subject14.centerlight',\n",
              " 'yalefaces/subject14.rightlight',\n",
              " 'yalefaces/subject11.normal',\n",
              " 'yalefaces/subject13.wink',\n",
              " 'yalefaces/subject03.sad',\n",
              " 'yalefaces/subject11.leftlight',\n",
              " 'yalefaces/subject03.surprised',\n",
              " 'yalefaces/subject12.rightlight',\n",
              " 'yalefaces/subject09.glasses',\n",
              " 'yalefaces/subject06.normal',\n",
              " 'yalefaces/subject08.leftlight',\n",
              " 'yalefaces/subject07.wink',\n",
              " 'yalefaces/subject14.normal',\n",
              " 'yalefaces/subject13.centerlight',\n",
              " 'yalefaces/subject05.leftlight',\n",
              " 'yalefaces/subject03.noglasses',\n",
              " 'yalefaces/subject03.happy',\n",
              " 'yalefaces/subject04.sleepy',\n",
              " 'yalefaces/subject06.noglasses',\n",
              " 'yalefaces/subject02.wink',\n",
              " 'yalefaces/subject04.rightlight',\n",
              " 'yalefaces/subject07.glasses',\n",
              " 'yalefaces/subject05.wink',\n",
              " 'yalefaces/subject12.wink',\n",
              " 'yalefaces/subject12.happy',\n",
              " 'yalefaces/subject04.leftlight',\n",
              " 'yalefaces/subject10.surprised',\n",
              " 'yalefaces/subject13.rightlight',\n",
              " 'yalefaces/subject03.rightlight',\n",
              " 'yalefaces/subject09.happy',\n",
              " 'yalefaces/subject02.happy',\n",
              " 'yalefaces/subject14.wink',\n",
              " 'yalefaces/subject06.wink',\n",
              " 'yalefaces/subject01.sad',\n",
              " 'yalefaces/subject01.sleepy',\n",
              " 'yalefaces/subject01.noglasses',\n",
              " 'yalefaces/subject14.sleepy',\n",
              " 'yalefaces/subject05.rightlight',\n",
              " 'yalefaces/subject10.noglasses',\n",
              " 'yalefaces/subject02.normal',\n",
              " 'yalefaces/subject09.noglasses',\n",
              " 'yalefaces/subject15.surprised',\n",
              " 'yalefaces/subject02.leftlight',\n",
              " 'yalefaces/subject13.leftlight',\n",
              " 'yalefaces/subject10.rightlight',\n",
              " 'yalefaces/subject15.sad',\n",
              " 'yalefaces/subject06.leftlight',\n",
              " 'yalefaces/subject06.surprised',\n",
              " 'yalefaces/subject03.leftlight',\n",
              " 'yalefaces/subject13.sad',\n",
              " 'yalefaces/subject08.noglasses',\n",
              " 'yalefaces/subject09.sleepy',\n",
              " 'yalefaces/subject10.sleepy',\n",
              " 'yalefaces/subject01.surprised',\n",
              " 'yalefaces/subject05.sad',\n",
              " 'yalefaces/subject14.happy',\n",
              " 'yalefaces/subject03.wink',\n",
              " 'yalefaces/subject02.glasses',\n",
              " 'yalefaces/subject08.happy',\n",
              " 'yalefaces/subject10.centerlight',\n",
              " 'yalefaces/subject02.sleepy',\n",
              " 'yalefaces/subject05.centerlight',\n",
              " 'yalefaces/subject11.surprised',\n",
              " 'yalefaces/subject08.rightlight',\n",
              " 'yalefaces/subject12.sleepy',\n",
              " 'yalefaces/subject15.rightlight',\n",
              " 'yalefaces/subject07.centerlight',\n",
              " 'yalefaces/subject06.centerlight',\n",
              " 'yalefaces/subject12.surprised',\n",
              " 'yalefaces/subject05.sleepy',\n",
              " 'yalefaces/subject01.normal',\n",
              " 'yalefaces/subject07.surprised',\n",
              " 'yalefaces/subject07.happy',\n",
              " 'yalefaces/subject04.glasses',\n",
              " 'yalefaces/subject09.centerlight',\n",
              " 'yalefaces/subject03.glasses',\n",
              " 'yalefaces/subject04.sad',\n",
              " 'yalefaces/subject14.noglasses',\n",
              " 'yalefaces/subject02.rightlight',\n",
              " 'yalefaces/subject15.glasses',\n",
              " 'yalefaces/subject09.sad',\n",
              " 'yalefaces/subject12.normal',\n",
              " 'yalefaces/subject09.surprised',\n",
              " 'yalefaces/subject10.happy',\n",
              " 'yalefaces/subject08.normal',\n",
              " 'yalefaces/subject07.leftlight',\n",
              " 'yalefaces/subject01.glasses.gif',\n",
              " 'yalefaces/subject13.surprised',\n",
              " 'yalefaces/subject02.centerlight',\n",
              " 'yalefaces/subject10.sad',\n",
              " 'yalefaces/subject14.surprised',\n",
              " 'yalefaces/subject10.normal',\n",
              " 'yalefaces/subject06.sad',\n",
              " 'yalefaces/subject12.leftlight',\n",
              " 'yalefaces/subject09.wink',\n",
              " 'yalefaces/subject02.surprised',\n",
              " 'yalefaces/subject04.surprised',\n",
              " 'yalefaces/subject04.centerlight',\n",
              " 'yalefaces/subject01.rightlight',\n",
              " 'yalefaces/subject09.normal',\n",
              " 'yalefaces/subject11.centerlight',\n",
              " 'yalefaces/subject01.leftlight',\n",
              " 'yalefaces/subject11.happy',\n",
              " 'yalefaces/subject07.normal',\n",
              " 'yalefaces/subject14.leftlight',\n",
              " 'yalefaces/subject05.normal',\n",
              " 'yalefaces/subject01.happy',\n",
              " 'yalefaces/subject11.noglasses',\n",
              " 'yalefaces/subject10.glasses',\n",
              " 'yalefaces/subject05.happy',\n",
              " 'yalefaces/subject01.wink',\n",
              " 'yalefaces/subject04.wink',\n",
              " 'yalefaces/subject11.sleepy',\n",
              " 'yalefaces/subject08.surprised',\n",
              " 'yalefaces/subject08.glasses',\n",
              " 'yalefaces/subject06.glasses',\n",
              " 'yalefaces/subject10.leftlight',\n",
              " 'yalefaces/subject01.gif',\n",
              " 'yalefaces/subject14.glasses',\n",
              " 'yalefaces/subject15.noglasses',\n",
              " 'yalefaces/subject08.sleepy',\n",
              " 'yalefaces/subject03.normal',\n",
              " 'yalefaces/subject05.noglasses',\n",
              " 'yalefaces/subject13.sleepy',\n",
              " 'yalefaces/subject13.normal',\n",
              " 'yalefaces/subject08.centerlight',\n",
              " 'yalefaces/subject11.sad',\n",
              " 'yalefaces/subject09.leftlight',\n",
              " 'yalefaces/subject13.glasses',\n",
              " 'yalefaces/subject09.rightlight',\n",
              " 'yalefaces/subject04.normal',\n",
              " 'yalefaces/subject04.noglasses']"
            ]
          },
          "metadata": {
            "tags": []
          },
          "execution_count": 7
        }
      ]
    },
    {
      "cell_type": "code",
      "metadata": {
        "id": "SlAmA7mn84KW"
      },
      "source": [
        "np.random.shuffle(files)"
      ],
      "execution_count": null,
      "outputs": []
    },
    {
      "cell_type": "code",
      "metadata": {
        "id": "HfArY3i79rbu",
        "colab": {
          "base_uri": "https://localhost:8080/",
          "height": 34
        },
        "outputId": "9ab69a53-4216-493e-b4e2-48fce27783e0"
      },
      "source": [
        "N = len(files)\n",
        "N\n"
      ],
      "execution_count": null,
      "outputs": [
        {
          "output_type": "execute_result",
          "data": {
            "text/plain": [
              "166"
            ]
          },
          "metadata": {
            "tags": []
          },
          "execution_count": 9
        }
      ]
    },
    {
      "cell_type": "code",
      "metadata": {
        "id": "HZoRqltw9tIO"
      },
      "source": [
        "H, W = 60, 80\n",
        "\n",
        "def load_img(filepath):\n",
        "  # image to numpy array\n",
        "  img = image.img_to_array(image.load_img(filepath, target_size=[H,W])).astype(\"uint8\")\n",
        "  return img"
      ],
      "execution_count": null,
      "outputs": []
    },
    {
      "cell_type": "code",
      "metadata": {
        "id": "cTov4_Tziz6I",
        "colab": {
          "base_uri": "https://localhost:8080/",
          "height": 268
        },
        "outputId": "1a6db909-0dea-4ad0-e48b-0f8ca8dedb56"
      },
      "source": [
        "img = load_img(np.random.choice(files))\n",
        "\n",
        "plt.imshow(img)\n",
        "plt.show()"
      ],
      "execution_count": null,
      "outputs": [
        {
          "output_type": "display_data",
          "data": {
            "image/png": "[encoded data removed]",
            "text/plain": [
              "<Figure size 432x288 with 1 Axes>"
            ]
          },
          "metadata": {
            "tags": [],
            "needs_background": "light"
          }
        }
      ]
    },
    {
      "cell_type": "code",
      "metadata": {
        "id": "ARSYjfGmjJay"
      },
      "source": [
        "def to_grayscale(img):\n",
        "  return img.mean(axis=-1)"
      ],
      "execution_count": null,
      "outputs": []
    },
    {
      "cell_type": "code",
      "metadata": {
        "id": "BA1vxGIQjqJr",
        "colab": {
          "base_uri": "https://localhost:8080/",
          "height": 34
        },
        "outputId": "2fd75a0c-4640-496d-fb31-d1e8685a8749"
      },
      "source": [
        "np.all(img[:,:,0] == img[:,:,1]), np.all(img[:,:,0] == img[:,:,2])"
      ],
      "execution_count": null,
      "outputs": [
        {
          "output_type": "execute_result",
          "data": {
            "text/plain": [
              "(True, True)"
            ]
          },
          "metadata": {
            "tags": []
          },
          "execution_count": 13
        }
      ]
    },
    {
      "cell_type": "code",
      "metadata": {
        "id": "WUiV-2lrjsxa"
      },
      "source": [
        "shape = (N, H, W)\n",
        "images = np.zeros(shape)\n",
        "\n",
        "for i, f in enumerate(files):\n",
        "  img = to_grayscale(load_img(f)) / 255.\n",
        "  images[i] = img"
      ],
      "execution_count": null,
      "outputs": []
    },
    {
      "cell_type": "code",
      "metadata": {
        "id": "RkArDHc3o2UM",
        "colab": {
          "base_uri": "https://localhost:8080/",
          "height": 34
        },
        "outputId": "745e1bf0-a1ca-4bbc-ba71-8873b50acae8"
      },
      "source": [
        "images.shape"
      ],
      "execution_count": null,
      "outputs": [
        {
          "output_type": "execute_result",
          "data": {
            "text/plain": [
              "(166, 60, 80)"
            ]
          },
          "metadata": {
            "tags": []
          },
          "execution_count": 15
        }
      ]
    },
    {
      "cell_type": "code",
      "metadata": {
        "id": "n-XOZydjo3ly"
      },
      "source": [
        "labels = np.zeros(N)\n",
        "for i, f in enumerate(files):\n",
        "  filename = f.rsplit(\"/\", 1)[-1]\n",
        "  subject_num = filename.split(\".\", 1)[0]\n",
        "\n",
        "  idx = int(subject_num.replace(\"subject\", \"\")) - 1\n",
        "  labels[i] = idx"
      ],
      "execution_count": null,
      "outputs": []
    },
    {
      "cell_type": "code",
      "metadata": {
        "id": "LDrXdhmXslCb",
        "colab": {
          "base_uri": "https://localhost:8080/",
          "height": 238
        },
        "outputId": "eff56e50-d45c-4655-abe8-9f71627d1956"
      },
      "source": [
        "labels"
      ],
      "execution_count": null,
      "outputs": [
        {
          "output_type": "execute_result",
          "data": {
            "text/plain": [
              "array([12.,  8.,  9., 12.,  6.,  6.,  6.,  8.,  3.,  7.,  4.,  5.,  6.,\n",
              "        3.,  1.,  6., 12.,  6.,  8.,  3.,  8., 12.,  6.,  8.,  1.,  3.,\n",
              "        5., 11., 10.,  5., 10.,  7.,  9., 12.,  7.,  0., 14., 12., 14.,\n",
              "       14., 14.,  7., 13.,  6., 10.,  0., 12.,  2.,  0., 10.,  3., 10.,\n",
              "        0.,  2.,  2.,  7., 12., 14.,  0.,  7., 12.,  8.,  5.,  8.,  1.,\n",
              "        7.,  1., 13., 11.,  0.,  4.,  6.,  8., 14.,  4.,  9., 13.,  2.,\n",
              "       13., 10.,  3., 14., 11.,  4.,  5.,  0., 10.,  8., 14.,  9., 10.,\n",
              "       14.,  3., 13.,  4.,  3.,  1., 13.,  2.,  2.,  9.,  5.,  7.,  2.,\n",
              "        0.,  5.,  2.,  6.,  0.,  5., 13., 11.,  0., 11., 12., 10., 14.,\n",
              "        3., 11.,  4.,  9.,  1.,  2.,  9.,  8., 14., 11.,  1., 11., 12.,\n",
              "       13.,  6.,  1.,  5.,  8.,  9.,  7., 13.,  7.,  4.,  5.,  7.,  0.,\n",
              "        9.,  1.,  4., 13.,  3.,  5.,  9.,  3.,  4., 10., 10.,  4.,  9.,\n",
              "       11.,  4., 11.,  2.,  1., 11.,  1., 13.,  0.,  2.])"
            ]
          },
          "metadata": {
            "tags": []
          },
          "execution_count": 17
        }
      ]
    },
    {
      "cell_type": "code",
      "metadata": {
        "id": "5AMKy0gQsmbC",
        "colab": {
          "base_uri": "https://localhost:8080/",
          "height": 272
        },
        "outputId": "f3d5dff2-eefa-462a-cfa5-d7d70c61db0b"
      },
      "source": [
        "label_count = Counter(labels)\n",
        "label_count"
      ],
      "execution_count": null,
      "outputs": [
        {
          "output_type": "execute_result",
          "data": {
            "text/plain": [
              "Counter({0.0: 12,\n",
              "         1.0: 11,\n",
              "         2.0: 11,\n",
              "         3.0: 11,\n",
              "         4.0: 11,\n",
              "         5.0: 11,\n",
              "         6.0: 11,\n",
              "         7.0: 11,\n",
              "         8.0: 11,\n",
              "         9.0: 11,\n",
              "         10.0: 11,\n",
              "         11.0: 11,\n",
              "         12.0: 11,\n",
              "         13.0: 11,\n",
              "         14.0: 11})"
            ]
          },
          "metadata": {
            "tags": []
          },
          "execution_count": 18
        }
      ]
    },
    {
      "cell_type": "code",
      "metadata": {
        "id": "v68Oa_HGs2oj",
        "colab": {
          "base_uri": "https://localhost:8080/",
          "height": 272
        },
        "outputId": "a80f6597-1a2f-466f-c07d-ee9a008a91a4"
      },
      "source": [
        "unique_labels = set(label_count.keys())\n",
        "unique_labels"
      ],
      "execution_count": null,
      "outputs": [
        {
          "output_type": "execute_result",
          "data": {
            "text/plain": [
              "{0.0,\n",
              " 1.0,\n",
              " 2.0,\n",
              " 3.0,\n",
              " 4.0,\n",
              " 5.0,\n",
              " 6.0,\n",
              " 7.0,\n",
              " 8.0,\n",
              " 9.0,\n",
              " 10.0,\n",
              " 11.0,\n",
              " 12.0,\n",
              " 13.0,\n",
              " 14.0}"
            ]
          },
          "metadata": {
            "tags": []
          },
          "execution_count": 19
        }
      ]
    },
    {
      "cell_type": "code",
      "metadata": {
        "id": "31KzZ5AVs-wa"
      },
      "source": [
        "n_subjects = len(label_count)"
      ],
      "execution_count": null,
      "outputs": []
    },
    {
      "cell_type": "code",
      "metadata": {
        "id": "JLLUz7xzuBws",
        "colab": {
          "base_uri": "https://localhost:8080/",
          "height": 34
        },
        "outputId": "62cffeda-62f8-4fd4-8f99-6c068d5500e1"
      },
      "source": [
        "n_subjects"
      ],
      "execution_count": null,
      "outputs": [
        {
          "output_type": "execute_result",
          "data": {
            "text/plain": [
              "15"
            ]
          },
          "metadata": {
            "tags": []
          },
          "execution_count": 21
        }
      ]
    },
    {
      "cell_type": "code",
      "metadata": {
        "id": "LjKWChthuDGT",
        "colab": {
          "base_uri": "https://localhost:8080/",
          "height": 34
        },
        "outputId": "42119866-6be1-4462-9a8f-7a3fee034c02"
      },
      "source": [
        "n_test = 3*n_subjects\n",
        "n_train = N- n_test\n",
        "n_train"
      ],
      "execution_count": null,
      "outputs": [
        {
          "output_type": "execute_result",
          "data": {
            "text/plain": [
              "121"
            ]
          },
          "metadata": {
            "tags": []
          },
          "execution_count": 22
        }
      ]
    },
    {
      "cell_type": "code",
      "metadata": {
        "id": "U0K9OLLKva8j",
        "colab": {
          "base_uri": "https://localhost:8080/",
          "height": 34
        },
        "outputId": "dab2c8a6-46a5-4ec6-f9f6-049d327177a1"
      },
      "source": [
        "list(img.shape) + [121]"
      ],
      "execution_count": null,
      "outputs": [
        {
          "output_type": "execute_result",
          "data": {
            "text/plain": [
              "[60, 80, 121]"
            ]
          },
          "metadata": {
            "tags": []
          },
          "execution_count": 23
        }
      ]
    },
    {
      "cell_type": "code",
      "metadata": {
        "id": "rfK_1ulmuPBK"
      },
      "source": [
        "train_images = np.zeros([n_train] + list(img.shape))\n",
        "train_labels = np.zeros(n_train)\n",
        "test_images = np.zeros([n_test] + list(img.shape))\n",
        "test_labels = np.zeros(n_test)"
      ],
      "execution_count": null,
      "outputs": []
    },
    {
      "cell_type": "code",
      "metadata": {
        "id": "c8quhFTJxJRz"
      },
      "source": [
        ""
      ],
      "execution_count": null,
      "outputs": []
    },
    {
      "cell_type": "code",
      "metadata": {
        "id": "ICo3sb1kwIJa"
      },
      "source": [
        "count_so_far = {}\n",
        "train_idx = 0\n",
        "test_idx = 0\n",
        "\n",
        "for img, label in zip(images,labels):\n",
        "  count_so_far[label] = count_so_far.get(label, 0) + 1\n",
        "\n",
        "  if count_so_far[label] > 3:\n",
        "    train_images[train_idx] = img\n",
        "    train_labels[train_idx] = label\n",
        "    train_idx += 1\n",
        "\n",
        "  else:\n",
        "    test_images[test_idx] = img\n",
        "    test_labels[test_idx] = label\n",
        "    test_idx += 1"
      ],
      "execution_count": null,
      "outputs": []
    },
    {
      "cell_type": "code",
      "metadata": {
        "id": "adVHSV4p1U5t"
      },
      "source": [
        "train_label2idx = {}\n",
        "test_label2idx = {}\n",
        "\n",
        "for i, label in enumerate(train_labels):\n",
        "  if label not in train_label2idx:\n",
        "    train_label2idx[label] = [i]\n",
        "  else:\n",
        "    train_label2idx[label].append(i)\n",
        "\n",
        "for i, label in enumerate(test_labels):\n",
        "  if label not in test_label2idx:\n",
        "    test_label2idx[label] = [i]\n",
        "  else:\n",
        "    test_label2idx[label].append(i)\n",
        "\n",
        "  \n"
      ],
      "execution_count": null,
      "outputs": []
    },
    {
      "cell_type": "code",
      "metadata": {
        "id": "fN8n-Xug63M7"
      },
      "source": [
        "train_positives = []\n",
        "train_negatives = []\n",
        "test_positives = []\n",
        "test_negatives = []\n",
        "\n",
        "for label, indices in train_label2idx.items():\n",
        "  other_indices = set(range(n_train)) - set(indices)\n",
        "\n",
        "  for i, idx1 in enumerate(indices):\n",
        "    for idx2 in indices[i+1:]:\n",
        "      train_positives.append((idx1,idx2))\n",
        "\n",
        "    for idx2 in other_indices:\n",
        "      train_negatives.append((idx1, idx2))\n",
        "\n",
        "for label, indices in test_label2idx.items():\n",
        "  other_indices = set(range(n_test)) - set(indices)\n",
        "\n",
        "  for i, idx1 in enumerate(indices):\n",
        "    for idx2 in indices[i+1:]:\n",
        "      test_positives.append((idx1,idx2))\n",
        "\n",
        "    for idx2 in other_indices:\n",
        "      test_negatives.append((idx1, idx2))"
      ],
      "execution_count": null,
      "outputs": []
    },
    {
      "cell_type": "code",
      "metadata": {
        "id": "WmkwlbPrrSl9"
      },
      "source": [
        "batch_size = 64\n",
        "\n",
        "def train_generator():\n",
        "\n",
        "  n_batches = int(np.ceil(len(train_positives)/batch_size))\n",
        "\n",
        "  while True:\n",
        "\n",
        "    np.random.shuffle(train_positives)\n",
        "    n_samples = batch_size*2\n",
        "    shape = (n_samples, H,W)\n",
        "    x_batch_1 = np.zeros(shape)\n",
        "    x_batch_2 = np.zeros(shape)\n",
        "    y_batch = np.zeros(n_samples)\n",
        "\n",
        "    for i in range(n_batches):\n",
        "      pos_batch_indices = train_positives[i*batch_size : (i+1)*batch_size]\n",
        "\n",
        "      j=0\n",
        "      for idx1, idx2 in pos_batch_indices:\n",
        "        x_batch_1[j] = train_images[idx1]\n",
        "        x_batch_2[j] = train_images[idx2]\n",
        "        y_batch[j] = 1\n",
        "        j+=1\n",
        "      \n",
        "      neg_indices = np.random.choice(len(train_negatives), size=len(pos_batch_indices))\n",
        "\n",
        "      for neg in neg_indices:\n",
        "        idx1, idx2 = train_negatives[neg]\n",
        "        x_batch_1[j] = train_images[idx1]\n",
        "        x_batch_2[j] = train_images[idx2]\n",
        "        y_batch[j] = 0\n",
        "        j+=1\n",
        "\n",
        "      x1 = x_batch_1[:j]\n",
        "      x2 = x_batch_2[:j]\n",
        "      y = y_batch[:j]\n",
        "\n",
        "      x1 = x1.reshape(-1,1,H,W)\n",
        "      x2 = x2.reshape(-1, 1, H, W)\n",
        "\n",
        "      x1 = torch.from_numpy(x1).float()\n",
        "      x2 = torch.from_numpy(x2).float()\n",
        "      y = torch.from_numpy(y).float()\n",
        "\n",
        "      yield [x1,x2], y"
      ],
      "execution_count": null,
      "outputs": []
    },
    {
      "cell_type": "code",
      "metadata": {
        "id": "3GiEbhoX5TaK"
      },
      "source": [
        "def test_generator():\n",
        "\n",
        "  n_batches = int(np.ceil(len(test_positives)/batch_size))\n",
        "\n",
        "  while True:\n",
        "\n",
        "    np.random.shuffle(test_positives)\n",
        "    n_samples = batch_size*2\n",
        "    shape = (n_samples, H,W)\n",
        "    x_batch_1 = np.zeros(shape)\n",
        "    x_batch_2 = np.zeros(shape)\n",
        "    y_batch = np.zeros(n_samples)\n",
        "\n",
        "    for i in range(n_batches):\n",
        "      pos_batch_indices = test_positives[i*batch_size : (i+1)*batch_size]\n",
        "\n",
        "      j=0\n",
        "      for idx1, idx2 in pos_batch_indices:\n",
        "        x_batch_1[j] = test_images[idx1]\n",
        "        x_batch_2[j] = test_images[idx2]\n",
        "        y_batch[j] = 1\n",
        "        j+=1\n",
        "      \n",
        "      neg_indices = np.random.choice(len(test_negatives), size=len(pos_batch_indices))\n",
        "      for neg in neg_indices:\n",
        "        idx1, idx2 = test_negatives[neg]\n",
        "        x_batch_1[j] = test_images[idx1]\n",
        "        x_batch_2[j] = test_images[idx2]\n",
        "        y_batch[j] = 0\n",
        "        j+=1\n",
        "\n",
        "      x1 = x_batch_1[:j]\n",
        "      x2 = x_batch_2[:j]\n",
        "      y = y_batch[:j]\n",
        "\n",
        "      x1 = x1.reshape(-1,1,H,W)\n",
        "      x2 = x2.reshape(-1, 1, H, W)\n",
        "\n",
        "      x1 = torch.from_numpy(x1).float()\n",
        "      x2 = torch.from_numpy(x2).float()\n",
        "      y = torch.from_numpy(y).float()\n",
        "\n",
        "      yield [x1,x2], y"
      ],
      "execution_count": null,
      "outputs": []
    },
    {
      "cell_type": "code",
      "metadata": {
        "id": "8Ct1wMx67ze1"
      },
      "source": [
        "class SiameseNN(nn.Module):\n",
        "\n",
        "  def __init__(self, feature_dim):\n",
        "    super(SiameseNN, self).__init__()\n",
        "\n",
        "    self.cnn = nn.Sequential(\n",
        "        nn.Conv2d(1,32,kernel_size=3),\n",
        "        nn.BatchNorm2d(32),\n",
        "        nn.ReLU(),\n",
        "        nn.MaxPool2d(2),\n",
        "        nn.Conv2d(32,64,kernel_size=3),\n",
        "        nn.BatchNorm2d(64),\n",
        "        nn.ReLU(),\n",
        "        nn.MaxPool2d(2),\n",
        "        nn.Flatten(),\n",
        "        nn.Linear(13*18*64, 128),\n",
        "        nn.ReLU(),\n",
        "        nn.Linear(128, feature_dim)\n",
        "    )\n",
        "\n",
        "  def forward(self, im1, im2):\n",
        "    feat1 = self.cnn(im1)\n",
        "    feat2 = self.cnn(im2)\n",
        "\n",
        "    return torch.norm(feat1-feat2, dim=-1)"
      ],
      "execution_count": null,
      "outputs": []
    },
    {
      "cell_type": "code",
      "metadata": {
        "id": "wCpAuZsLDWKh"
      },
      "source": [
        "model = SiameseNN(50)"
      ],
      "execution_count": null,
      "outputs": []
    },
    {
      "cell_type": "code",
      "metadata": {
        "id": "C0kBhcHHDayu",
        "colab": {
          "base_uri": "https://localhost:8080/",
          "height": 306
        },
        "outputId": "05fd8284-8b5a-43b6-f89f-360f458f484c"
      },
      "source": [
        "device = torch.device(\"cuda:0\" if torch.cuda.is_available() else \"cpu\")\n",
        "print(device)\n",
        "model.to(device)"
      ],
      "execution_count": null,
      "outputs": [
        {
          "output_type": "stream",
          "text": [
            "cuda:0\n"
          ],
          "name": "stdout"
        },
        {
          "output_type": "execute_result",
          "data": {
            "text/plain": [
              "SiameseNN(\n",
              "  (cnn): Sequential(\n",
              "    (0): Conv2d(1, 32, kernel_size=(3, 3), stride=(1, 1))\n",
              "    (1): BatchNorm2d(32, eps=1e-05, momentum=0.1, affine=True, track_running_stats=True)\n",
              "    (2): ReLU()\n",
              "    (3): MaxPool2d(kernel_size=2, stride=2, padding=0, dilation=1, ceil_mode=False)\n",
              "    (4): Conv2d(32, 64, kernel_size=(3, 3), stride=(1, 1))\n",
              "    (5): BatchNorm2d(64, eps=1e-05, momentum=0.1, affine=True, track_running_stats=True)\n",
              "    (6): ReLU()\n",
              "    (7): MaxPool2d(kernel_size=2, stride=2, padding=0, dilation=1, ceil_mode=False)\n",
              "    (8): Flatten()\n",
              "    (9): Linear(in_features=14976, out_features=128, bias=True)\n",
              "    (10): ReLU()\n",
              "    (11): Linear(in_features=128, out_features=50, bias=True)\n",
              "  )\n",
              ")"
            ]
          },
          "metadata": {
            "tags": []
          },
          "execution_count": 89
        }
      ]
    },
    {
      "cell_type": "code",
      "metadata": {
        "id": "mGY0gML7EeP2"
      },
      "source": [
        "def contrastive_loss(y,t):\n",
        "  nonmatch = F.relu(1-y)\n",
        "\n",
        "  return torch.mean(t* y**2 + (1-t)*nonmatch**2)"
      ],
      "execution_count": null,
      "outputs": []
    },
    {
      "cell_type": "code",
      "metadata": {
        "id": "wZxHf7vyE8-2"
      },
      "source": [
        "optimizer = torch.optim.Adam(model.parameters())"
      ],
      "execution_count": null,
      "outputs": []
    },
    {
      "cell_type": "code",
      "metadata": {
        "id": "NHsl333DFB5W"
      },
      "source": [
        "def batch_gd(model, criterion, optimizer, train_gen, test_gen, train_per_epoch, test_per_epoch, epochs):\n",
        "\n",
        "  train_losses = np.zeros(epochs)\n",
        "  test_losses = np.zeros(epochs)\n",
        "\n",
        "  for it in range(epochs):\n",
        "\n",
        "    t0  = datetime.now()\n",
        "    train_loss = []\n",
        "    steps = 0\n",
        "\n",
        "    for (x1, x2), targets in train_gen:\n",
        "      x1, x2, targets = x1.to(device), x2.to(device), targets.to(device)\n",
        "\n",
        "      optimizer.zero_grad()\n",
        "\n",
        "      outputs = model(x1, x2)\n",
        "      loss = criterion(outputs, targets)\n",
        "\n",
        "      loss.backward()\n",
        "      optimizer.step()\n",
        "      #print(loss.item())\n",
        "      train_loss.append(loss.item())\n",
        "      steps +=1\n",
        "\n",
        "      if steps >= train_per_epoch:\n",
        "        break\n",
        "    \n",
        "    #print(\"ok\")\n",
        "    train_loss = np.mean(train_loss)\n",
        "\n",
        "    test_loss = []\n",
        "    steps = 0\n",
        "    for (x1, x2), targets in test_gen:\n",
        "      x1, x2, targets = x1.to(device), x2.to(device), targets.to(device)\n",
        "\n",
        "      optimizer.zero_grad()\n",
        "\n",
        "      outputs = model(x1, x2)\n",
        "      loss = criterion(outputs, targets)\n",
        "\n",
        "      test_loss.append(loss.item())\n",
        "      steps +=1\n",
        "      if steps >= test_per_epoch:\n",
        "        break\n",
        "      #print(\"ok\")\n",
        "    test_loss = np.mean(test_loss)\n",
        "\n",
        "    train_losses[it] = train_loss\n",
        "    test_losses[it] = test_loss\n",
        "    dt = datetime.now() - t0\n",
        "    #print(\"dt\")\n",
        "\n",
        "    print(\"Epoch: {}, Train Loss: {}, Test Loss: {}, Duration: {}\".format(it+1, train_loss, test_loss, dt))\n",
        "\n",
        "  return train_losses, test_losses\n"
      ],
      "execution_count": null,
      "outputs": []
    },
    {
      "cell_type": "code",
      "metadata": {
        "id": "x4A9AII48bwg",
        "colab": {
          "base_uri": "https://localhost:8080/",
          "height": 357
        },
        "outputId": "6e88e25e-86e3-4845-cf8a-7080b01298e6"
      },
      "source": [
        "train_steps = int(np.ceil(len(train_positives)/ batch_size))\n",
        "test_steps = int(np.ceil(len(test_positives)/ batch_size))\n",
        "\n",
        "train_losses, test_losses = batch_gd(model, contrastive_loss, optimizer, train_generator(), test_generator(), train_steps, test_steps, epochs=20)"
      ],
      "execution_count": null,
      "outputs": [
        {
          "output_type": "stream",
          "text": [
            "Epoch: 1, Train Loss: 0.7120222789900643, Test Loss: 0.34977489709854126, Duration: 0:00:00.213078\n",
            "Epoch: 2, Train Loss: 0.221821733883449, Test Loss: 0.13514338433742523, Duration: 0:00:00.197886\n",
            "Epoch: 3, Train Loss: 0.12851972665105546, Test Loss: 0.15170295536518097, Duration: 0:00:00.197289\n",
            "Epoch: 4, Train Loss: 0.0737551259143012, Test Loss: 0.1155385673046112, Duration: 0:00:00.194005\n",
            "Epoch: 5, Train Loss: 0.04337039217352867, Test Loss: 0.10043302178382874, Duration: 0:00:00.192699\n",
            "Epoch: 6, Train Loss: 0.026750808581709862, Test Loss: 0.0891275629401207, Duration: 0:00:00.192489\n",
            "Epoch: 7, Train Loss: 0.01694460865110159, Test Loss: 0.10203074663877487, Duration: 0:00:00.191973\n",
            "Epoch: 8, Train Loss: 0.011134599135922534, Test Loss: 0.10020045191049576, Duration: 0:00:00.196112\n",
            "Epoch: 9, Train Loss: 0.007134645445538419, Test Loss: 0.08787351101636887, Duration: 0:00:00.197443\n",
            "Epoch: 10, Train Loss: 0.004432522991139974, Test Loss: 0.09788696467876434, Duration: 0:00:00.193548\n",
            "Epoch: 11, Train Loss: 0.002584320493042469, Test Loss: 0.0897081047296524, Duration: 0:00:00.194062\n",
            "Epoch: 12, Train Loss: 0.0023806704973269787, Test Loss: 0.09565924853086472, Duration: 0:00:00.191701\n",
            "Epoch: 13, Train Loss: 0.0025764123669692446, Test Loss: 0.08838669955730438, Duration: 0:00:00.192901\n",
            "Epoch: 14, Train Loss: 0.002356225092496191, Test Loss: 0.08575498312711716, Duration: 0:00:00.192222\n",
            "Epoch: 15, Train Loss: 0.002149320606674467, Test Loss: 0.08491414785385132, Duration: 0:00:00.191102\n",
            "Epoch: 16, Train Loss: 0.0021094217331015636, Test Loss: 0.09104669839143753, Duration: 0:00:00.193850\n",
            "Epoch: 17, Train Loss: 0.001336331246420741, Test Loss: 0.08721362054347992, Duration: 0:00:00.196388\n",
            "Epoch: 18, Train Loss: 0.0016556059043588383, Test Loss: 0.0863979384303093, Duration: 0:00:00.195351\n",
            "Epoch: 19, Train Loss: 0.0017942822139178003, Test Loss: 0.08596235513687134, Duration: 0:00:00.195924\n",
            "Epoch: 20, Train Loss: 0.002014546688379986, Test Loss: 0.09382254630327225, Duration: 0:00:00.193699\n"
          ],
          "name": "stdout"
        }
      ]
    },
    {
      "cell_type": "code",
      "metadata": {
        "id": "pPic2WO29CEX"
      },
      "source": [
        "import torch.nn.functional as F\n"
      ],
      "execution_count": null,
      "outputs": []
    },
    {
      "cell_type": "code",
      "metadata": {
        "id": "eQUTQLpr9R4_"
      },
      "source": [
        "def predict(x1, x2):\n",
        "  x1 = torch.from_numpy(x1).float().to(device)\n",
        "  x2 = torch.from_numpy(x2).float().to(device)\n",
        "\n",
        "  with torch.no_grad():\n",
        "    dist = model(x1, x2).cpu().numpy()\n",
        "    return dist.flatten()"
      ],
      "execution_count": null,
      "outputs": []
    },
    {
      "cell_type": "code",
      "metadata": {
        "id": "NpDp-QxRIcAw"
      },
      "source": [
        ""
      ],
      "execution_count": null,
      "outputs": []
    }
  ]
}